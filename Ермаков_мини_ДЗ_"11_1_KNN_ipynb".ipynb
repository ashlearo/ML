{
  "nbformat": 4,
  "nbformat_minor": 0,
  "metadata": {
    "anaconda-cloud": {},
    "kernelspec": {
      "display_name": "Python 3",
      "language": "python",
      "name": "python3"
    },
    "language_info": {
      "codemirror_mode": {
        "name": "ipython",
        "version": 3
      },
      "file_extension": ".py",
      "mimetype": "text/x-python",
      "name": "python",
      "nbconvert_exporter": "python",
      "pygments_lexer": "ipython3",
      "version": "3.5.1"
    },
    "colab": {
      "provenance": [],
      "include_colab_link": true
    }
  },
  "cells": [
    {
      "cell_type": "markdown",
      "metadata": {
        "id": "view-in-github",
        "colab_type": "text"
      },
      "source": [
        "<a href=\"https://colab.research.google.com/github/ashlearo/ML/blob/main/%D0%95%D1%80%D0%BC%D0%B0%D0%BA%D0%BE%D0%B2_%D0%BC%D0%B8%D0%BD%D0%B8_%D0%94%D0%97_%2211_1_KNN_ipynb%22.ipynb\" target=\"_parent\"><img src=\"https://colab.research.google.com/assets/colab-badge.svg\" alt=\"Open In Colab\"/></a>"
      ]
    },
    {
      "cell_type": "markdown",
      "source": [
        "# KNN"
      ],
      "metadata": {
        "id": "Lg0DecrxuTXC"
      }
    },
    {
      "cell_type": "markdown",
      "source": [
        "Данные: https://www.kaggle.com/saurabh00007/diabetescsv?select=diabetes.csv"
      ],
      "metadata": {
        "id": "57dffqZ-07kq"
      }
    },
    {
      "cell_type": "markdown",
      "source": [
        "Погонял ноутбук с занятия , написать свою модель обучения вызвало затруднение"
      ],
      "metadata": {
        "id": "Gjke84G4PSj2"
      }
    },
    {
      "cell_type": "code",
      "source": [
        "import pandas as pd\n",
        "#read in the data using pandas\n",
        "df = pd.read_csv('/content/diabetes.csv')\n",
        "df = df.rename(columns={'Outcome':'diabetes'})\n",
        "#check data has been read in properly\n",
        "df.head()"
      ],
      "metadata": {
        "id": "D6WdEjNIvjVL"
      },
      "execution_count": null,
      "outputs": []
    },
    {
      "cell_type": "code",
      "source": [
        "from google.colab import files\n",
        "uploaded = files.upload()"
      ],
      "metadata": {
        "colab": {
          "resources": {
            "http://localhost:8080/nbextensions/google.colab/files.js": {
              "data": "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",
              "ok": true,
              "headers": [
                [
                  "content-type",
                  "application/javascript"
                ]
              ],
              "status": 200,
              "status_text": ""
            }
          },
          "base_uri": "https://localhost:8080/",
          "height": 74
        },
        "id": "cKYnHgJaMHyl",
        "outputId": "a97e48ae-6401-47e8-edf8-a5dae3caa9a4"
      },
      "execution_count": null,
      "outputs": [
        {
          "output_type": "display_data",
          "data": {
            "text/html": [
              "\n",
              "     <input type=\"file\" id=\"files-d05129b8-ecf0-4faa-a2fb-d99211f887cd\" name=\"files[]\" multiple disabled\n",
              "        style=\"border:none\" />\n",
              "     <output id=\"result-d05129b8-ecf0-4faa-a2fb-d99211f887cd\">\n",
              "      Upload widget is only available when the cell has been executed in the\n",
              "      current browser session. Please rerun this cell to enable.\n",
              "      </output>\n",
              "      <script src=\"/nbextensions/google.colab/files.js\"></script> "
            ],
            "text/plain": [
              "<IPython.core.display.HTML object>"
            ]
          },
          "metadata": {}
        },
        {
          "output_type": "stream",
          "name": "stdout",
          "text": [
            "Saving diabetes.csv to diabetes.csv\n"
          ]
        }
      ]
    },
    {
      "cell_type": "code",
      "source": [
        "df = pd.read_csv('/content/diabetes.csv')\n",
        "df = df.rename(columns={'Outcome':'diabetes'})\n",
        "#check data has been read in properly\n",
        "df.head(10)"
      ],
      "metadata": {
        "colab": {
          "base_uri": "https://localhost:8080/",
          "height": 363
        },
        "id": "_hWJXe3RMQjj",
        "outputId": "0497ea74-4393-4da3-c4ab-ce6336274a29"
      },
      "execution_count": null,
      "outputs": [
        {
          "output_type": "execute_result",
          "data": {
            "text/html": [
              "\n",
              "  <div id=\"df-a6c9e3af-dfc6-4b8f-9e0c-295622373c59\">\n",
              "    <div class=\"colab-df-container\">\n",
              "      <div>\n",
              "<style scoped>\n",
              "    .dataframe tbody tr th:only-of-type {\n",
              "        vertical-align: middle;\n",
              "    }\n",
              "\n",
              "    .dataframe tbody tr th {\n",
              "        vertical-align: top;\n",
              "    }\n",
              "\n",
              "    .dataframe thead th {\n",
              "        text-align: right;\n",
              "    }\n",
              "</style>\n",
              "<table border=\"1\" class=\"dataframe\">\n",
              "  <thead>\n",
              "    <tr style=\"text-align: right;\">\n",
              "      <th></th>\n",
              "      <th>Pregnancies</th>\n",
              "      <th>Glucose</th>\n",
              "      <th>BloodPressure</th>\n",
              "      <th>SkinThickness</th>\n",
              "      <th>Insulin</th>\n",
              "      <th>BMI</th>\n",
              "      <th>DiabetesPedigreeFunction</th>\n",
              "      <th>Age</th>\n",
              "      <th>diabetes</th>\n",
              "    </tr>\n",
              "  </thead>\n",
              "  <tbody>\n",
              "    <tr>\n",
              "      <th>0</th>\n",
              "      <td>6</td>\n",
              "      <td>148</td>\n",
              "      <td>72</td>\n",
              "      <td>35</td>\n",
              "      <td>0</td>\n",
              "      <td>33.6</td>\n",
              "      <td>0.627</td>\n",
              "      <td>50</td>\n",
              "      <td>1</td>\n",
              "    </tr>\n",
              "    <tr>\n",
              "      <th>1</th>\n",
              "      <td>1</td>\n",
              "      <td>85</td>\n",
              "      <td>66</td>\n",
              "      <td>29</td>\n",
              "      <td>0</td>\n",
              "      <td>26.6</td>\n",
              "      <td>0.351</td>\n",
              "      <td>31</td>\n",
              "      <td>0</td>\n",
              "    </tr>\n",
              "    <tr>\n",
              "      <th>2</th>\n",
              "      <td>8</td>\n",
              "      <td>183</td>\n",
              "      <td>64</td>\n",
              "      <td>0</td>\n",
              "      <td>0</td>\n",
              "      <td>23.3</td>\n",
              "      <td>0.672</td>\n",
              "      <td>32</td>\n",
              "      <td>1</td>\n",
              "    </tr>\n",
              "    <tr>\n",
              "      <th>3</th>\n",
              "      <td>1</td>\n",
              "      <td>89</td>\n",
              "      <td>66</td>\n",
              "      <td>23</td>\n",
              "      <td>94</td>\n",
              "      <td>28.1</td>\n",
              "      <td>0.167</td>\n",
              "      <td>21</td>\n",
              "      <td>0</td>\n",
              "    </tr>\n",
              "    <tr>\n",
              "      <th>4</th>\n",
              "      <td>0</td>\n",
              "      <td>137</td>\n",
              "      <td>40</td>\n",
              "      <td>35</td>\n",
              "      <td>168</td>\n",
              "      <td>43.1</td>\n",
              "      <td>2.288</td>\n",
              "      <td>33</td>\n",
              "      <td>1</td>\n",
              "    </tr>\n",
              "    <tr>\n",
              "      <th>5</th>\n",
              "      <td>5</td>\n",
              "      <td>116</td>\n",
              "      <td>74</td>\n",
              "      <td>0</td>\n",
              "      <td>0</td>\n",
              "      <td>25.6</td>\n",
              "      <td>0.201</td>\n",
              "      <td>30</td>\n",
              "      <td>0</td>\n",
              "    </tr>\n",
              "    <tr>\n",
              "      <th>6</th>\n",
              "      <td>3</td>\n",
              "      <td>78</td>\n",
              "      <td>50</td>\n",
              "      <td>32</td>\n",
              "      <td>88</td>\n",
              "      <td>31.0</td>\n",
              "      <td>0.248</td>\n",
              "      <td>26</td>\n",
              "      <td>1</td>\n",
              "    </tr>\n",
              "    <tr>\n",
              "      <th>7</th>\n",
              "      <td>10</td>\n",
              "      <td>115</td>\n",
              "      <td>0</td>\n",
              "      <td>0</td>\n",
              "      <td>0</td>\n",
              "      <td>35.3</td>\n",
              "      <td>0.134</td>\n",
              "      <td>29</td>\n",
              "      <td>0</td>\n",
              "    </tr>\n",
              "    <tr>\n",
              "      <th>8</th>\n",
              "      <td>2</td>\n",
              "      <td>197</td>\n",
              "      <td>70</td>\n",
              "      <td>45</td>\n",
              "      <td>543</td>\n",
              "      <td>30.5</td>\n",
              "      <td>0.158</td>\n",
              "      <td>53</td>\n",
              "      <td>1</td>\n",
              "    </tr>\n",
              "    <tr>\n",
              "      <th>9</th>\n",
              "      <td>8</td>\n",
              "      <td>125</td>\n",
              "      <td>96</td>\n",
              "      <td>0</td>\n",
              "      <td>0</td>\n",
              "      <td>0.0</td>\n",
              "      <td>0.232</td>\n",
              "      <td>54</td>\n",
              "      <td>1</td>\n",
              "    </tr>\n",
              "  </tbody>\n",
              "</table>\n",
              "</div>\n",
              "      <button class=\"colab-df-convert\" onclick=\"convertToInteractive('df-a6c9e3af-dfc6-4b8f-9e0c-295622373c59')\"\n",
              "              title=\"Convert this dataframe to an interactive table.\"\n",
              "              style=\"display:none;\">\n",
              "        \n",
              "  <svg xmlns=\"http://www.w3.org/2000/svg\" height=\"24px\"viewBox=\"0 0 24 24\"\n",
              "       width=\"24px\">\n",
              "    <path d=\"M0 0h24v24H0V0z\" fill=\"none\"/>\n",
              "    <path d=\"M18.56 5.44l.94 2.06.94-2.06 2.06-.94-2.06-.94-.94-2.06-.94 2.06-2.06.94zm-11 1L8.5 8.5l.94-2.06 2.06-.94-2.06-.94L8.5 2.5l-.94 2.06-2.06.94zm10 10l.94 2.06.94-2.06 2.06-.94-2.06-.94-.94-2.06-.94 2.06-2.06.94z\"/><path d=\"M17.41 7.96l-1.37-1.37c-.4-.4-.92-.59-1.43-.59-.52 0-1.04.2-1.43.59L10.3 9.45l-7.72 7.72c-.78.78-.78 2.05 0 2.83L4 21.41c.39.39.9.59 1.41.59.51 0 1.02-.2 1.41-.59l7.78-7.78 2.81-2.81c.8-.78.8-2.07 0-2.86zM5.41 20L4 18.59l7.72-7.72 1.47 1.35L5.41 20z\"/>\n",
              "  </svg>\n",
              "      </button>\n",
              "      \n",
              "  <style>\n",
              "    .colab-df-container {\n",
              "      display:flex;\n",
              "      flex-wrap:wrap;\n",
              "      gap: 12px;\n",
              "    }\n",
              "\n",
              "    .colab-df-convert {\n",
              "      background-color: #E8F0FE;\n",
              "      border: none;\n",
              "      border-radius: 50%;\n",
              "      cursor: pointer;\n",
              "      display: none;\n",
              "      fill: #1967D2;\n",
              "      height: 32px;\n",
              "      padding: 0 0 0 0;\n",
              "      width: 32px;\n",
              "    }\n",
              "\n",
              "    .colab-df-convert:hover {\n",
              "      background-color: #E2EBFA;\n",
              "      box-shadow: 0px 1px 2px rgba(60, 64, 67, 0.3), 0px 1px 3px 1px rgba(60, 64, 67, 0.15);\n",
              "      fill: #174EA6;\n",
              "    }\n",
              "\n",
              "    [theme=dark] .colab-df-convert {\n",
              "      background-color: #3B4455;\n",
              "      fill: #D2E3FC;\n",
              "    }\n",
              "\n",
              "    [theme=dark] .colab-df-convert:hover {\n",
              "      background-color: #434B5C;\n",
              "      box-shadow: 0px 1px 3px 1px rgba(0, 0, 0, 0.15);\n",
              "      filter: drop-shadow(0px 1px 2px rgba(0, 0, 0, 0.3));\n",
              "      fill: #FFFFFF;\n",
              "    }\n",
              "  </style>\n",
              "\n",
              "      <script>\n",
              "        const buttonEl =\n",
              "          document.querySelector('#df-a6c9e3af-dfc6-4b8f-9e0c-295622373c59 button.colab-df-convert');\n",
              "        buttonEl.style.display =\n",
              "          google.colab.kernel.accessAllowed ? 'block' : 'none';\n",
              "\n",
              "        async function convertToInteractive(key) {\n",
              "          const element = document.querySelector('#df-a6c9e3af-dfc6-4b8f-9e0c-295622373c59');\n",
              "          const dataTable =\n",
              "            await google.colab.kernel.invokeFunction('convertToInteractive',\n",
              "                                                     [key], {});\n",
              "          if (!dataTable) return;\n",
              "\n",
              "          const docLinkHtml = 'Like what you see? Visit the ' +\n",
              "            '<a target=\"_blank\" href=https://colab.research.google.com/notebooks/data_table.ipynb>data table notebook</a>'\n",
              "            + ' to learn more about interactive tables.';\n",
              "          element.innerHTML = '';\n",
              "          dataTable['output_type'] = 'display_data';\n",
              "          await google.colab.output.renderOutput(dataTable, element);\n",
              "          const docLink = document.createElement('div');\n",
              "          docLink.innerHTML = docLinkHtml;\n",
              "          element.appendChild(docLink);\n",
              "        }\n",
              "      </script>\n",
              "    </div>\n",
              "  </div>\n",
              "  "
            ],
            "text/plain": [
              "   Pregnancies  Glucose  BloodPressure  ...  DiabetesPedigreeFunction  Age  diabetes\n",
              "0            6      148             72  ...                     0.627   50         1\n",
              "1            1       85             66  ...                     0.351   31         0\n",
              "2            8      183             64  ...                     0.672   32         1\n",
              "3            1       89             66  ...                     0.167   21         0\n",
              "4            0      137             40  ...                     2.288   33         1\n",
              "5            5      116             74  ...                     0.201   30         0\n",
              "6            3       78             50  ...                     0.248   26         1\n",
              "7           10      115              0  ...                     0.134   29         0\n",
              "8            2      197             70  ...                     0.158   53         1\n",
              "9            8      125             96  ...                     0.232   54         1\n",
              "\n",
              "[10 rows x 9 columns]"
            ]
          },
          "metadata": {},
          "execution_count": 4
        }
      ]
    },
    {
      "cell_type": "code",
      "source": [
        "#check number of rows and columns in dataset\n",
        "df.shape"
      ],
      "metadata": {
        "colab": {
          "base_uri": "https://localhost:8080/"
        },
        "id": "efbUMLoowE5B",
        "outputId": "27461006-2298-4bf7-a667-072961d625c4"
      },
      "execution_count": null,
      "outputs": [
        {
          "output_type": "execute_result",
          "data": {
            "text/plain": [
              "(768, 9)"
            ]
          },
          "metadata": {},
          "execution_count": 5
        }
      ]
    },
    {
      "cell_type": "code",
      "source": [
        "#create a dataframe with all training data except the target column\n",
        "X = df.drop(columns=['diabetes'])\n",
        "#check that the target variable has been removed\n",
        "X.head()"
      ],
      "metadata": {
        "colab": {
          "base_uri": "https://localhost:8080/",
          "height": 206
        },
        "id": "yMDSFBzcwjO-",
        "outputId": "f7570282-57ae-4965-b187-0f409975fbf8"
      },
      "execution_count": null,
      "outputs": [
        {
          "output_type": "execute_result",
          "data": {
            "text/html": [
              "\n",
              "  <div id=\"df-5e1e6e5c-d18b-4d37-8efa-c3939b3e227d\">\n",
              "    <div class=\"colab-df-container\">\n",
              "      <div>\n",
              "<style scoped>\n",
              "    .dataframe tbody tr th:only-of-type {\n",
              "        vertical-align: middle;\n",
              "    }\n",
              "\n",
              "    .dataframe tbody tr th {\n",
              "        vertical-align: top;\n",
              "    }\n",
              "\n",
              "    .dataframe thead th {\n",
              "        text-align: right;\n",
              "    }\n",
              "</style>\n",
              "<table border=\"1\" class=\"dataframe\">\n",
              "  <thead>\n",
              "    <tr style=\"text-align: right;\">\n",
              "      <th></th>\n",
              "      <th>Pregnancies</th>\n",
              "      <th>Glucose</th>\n",
              "      <th>BloodPressure</th>\n",
              "      <th>SkinThickness</th>\n",
              "      <th>Insulin</th>\n",
              "      <th>BMI</th>\n",
              "      <th>DiabetesPedigreeFunction</th>\n",
              "      <th>Age</th>\n",
              "    </tr>\n",
              "  </thead>\n",
              "  <tbody>\n",
              "    <tr>\n",
              "      <th>0</th>\n",
              "      <td>6</td>\n",
              "      <td>148</td>\n",
              "      <td>72</td>\n",
              "      <td>35</td>\n",
              "      <td>0</td>\n",
              "      <td>33.6</td>\n",
              "      <td>0.627</td>\n",
              "      <td>50</td>\n",
              "    </tr>\n",
              "    <tr>\n",
              "      <th>1</th>\n",
              "      <td>1</td>\n",
              "      <td>85</td>\n",
              "      <td>66</td>\n",
              "      <td>29</td>\n",
              "      <td>0</td>\n",
              "      <td>26.6</td>\n",
              "      <td>0.351</td>\n",
              "      <td>31</td>\n",
              "    </tr>\n",
              "    <tr>\n",
              "      <th>2</th>\n",
              "      <td>8</td>\n",
              "      <td>183</td>\n",
              "      <td>64</td>\n",
              "      <td>0</td>\n",
              "      <td>0</td>\n",
              "      <td>23.3</td>\n",
              "      <td>0.672</td>\n",
              "      <td>32</td>\n",
              "    </tr>\n",
              "    <tr>\n",
              "      <th>3</th>\n",
              "      <td>1</td>\n",
              "      <td>89</td>\n",
              "      <td>66</td>\n",
              "      <td>23</td>\n",
              "      <td>94</td>\n",
              "      <td>28.1</td>\n",
              "      <td>0.167</td>\n",
              "      <td>21</td>\n",
              "    </tr>\n",
              "    <tr>\n",
              "      <th>4</th>\n",
              "      <td>0</td>\n",
              "      <td>137</td>\n",
              "      <td>40</td>\n",
              "      <td>35</td>\n",
              "      <td>168</td>\n",
              "      <td>43.1</td>\n",
              "      <td>2.288</td>\n",
              "      <td>33</td>\n",
              "    </tr>\n",
              "  </tbody>\n",
              "</table>\n",
              "</div>\n",
              "      <button class=\"colab-df-convert\" onclick=\"convertToInteractive('df-5e1e6e5c-d18b-4d37-8efa-c3939b3e227d')\"\n",
              "              title=\"Convert this dataframe to an interactive table.\"\n",
              "              style=\"display:none;\">\n",
              "        \n",
              "  <svg xmlns=\"http://www.w3.org/2000/svg\" height=\"24px\"viewBox=\"0 0 24 24\"\n",
              "       width=\"24px\">\n",
              "    <path d=\"M0 0h24v24H0V0z\" fill=\"none\"/>\n",
              "    <path d=\"M18.56 5.44l.94 2.06.94-2.06 2.06-.94-2.06-.94-.94-2.06-.94 2.06-2.06.94zm-11 1L8.5 8.5l.94-2.06 2.06-.94-2.06-.94L8.5 2.5l-.94 2.06-2.06.94zm10 10l.94 2.06.94-2.06 2.06-.94-2.06-.94-.94-2.06-.94 2.06-2.06.94z\"/><path d=\"M17.41 7.96l-1.37-1.37c-.4-.4-.92-.59-1.43-.59-.52 0-1.04.2-1.43.59L10.3 9.45l-7.72 7.72c-.78.78-.78 2.05 0 2.83L4 21.41c.39.39.9.59 1.41.59.51 0 1.02-.2 1.41-.59l7.78-7.78 2.81-2.81c.8-.78.8-2.07 0-2.86zM5.41 20L4 18.59l7.72-7.72 1.47 1.35L5.41 20z\"/>\n",
              "  </svg>\n",
              "      </button>\n",
              "      \n",
              "  <style>\n",
              "    .colab-df-container {\n",
              "      display:flex;\n",
              "      flex-wrap:wrap;\n",
              "      gap: 12px;\n",
              "    }\n",
              "\n",
              "    .colab-df-convert {\n",
              "      background-color: #E8F0FE;\n",
              "      border: none;\n",
              "      border-radius: 50%;\n",
              "      cursor: pointer;\n",
              "      display: none;\n",
              "      fill: #1967D2;\n",
              "      height: 32px;\n",
              "      padding: 0 0 0 0;\n",
              "      width: 32px;\n",
              "    }\n",
              "\n",
              "    .colab-df-convert:hover {\n",
              "      background-color: #E2EBFA;\n",
              "      box-shadow: 0px 1px 2px rgba(60, 64, 67, 0.3), 0px 1px 3px 1px rgba(60, 64, 67, 0.15);\n",
              "      fill: #174EA6;\n",
              "    }\n",
              "\n",
              "    [theme=dark] .colab-df-convert {\n",
              "      background-color: #3B4455;\n",
              "      fill: #D2E3FC;\n",
              "    }\n",
              "\n",
              "    [theme=dark] .colab-df-convert:hover {\n",
              "      background-color: #434B5C;\n",
              "      box-shadow: 0px 1px 3px 1px rgba(0, 0, 0, 0.15);\n",
              "      filter: drop-shadow(0px 1px 2px rgba(0, 0, 0, 0.3));\n",
              "      fill: #FFFFFF;\n",
              "    }\n",
              "  </style>\n",
              "\n",
              "      <script>\n",
              "        const buttonEl =\n",
              "          document.querySelector('#df-5e1e6e5c-d18b-4d37-8efa-c3939b3e227d button.colab-df-convert');\n",
              "        buttonEl.style.display =\n",
              "          google.colab.kernel.accessAllowed ? 'block' : 'none';\n",
              "\n",
              "        async function convertToInteractive(key) {\n",
              "          const element = document.querySelector('#df-5e1e6e5c-d18b-4d37-8efa-c3939b3e227d');\n",
              "          const dataTable =\n",
              "            await google.colab.kernel.invokeFunction('convertToInteractive',\n",
              "                                                     [key], {});\n",
              "          if (!dataTable) return;\n",
              "\n",
              "          const docLinkHtml = 'Like what you see? Visit the ' +\n",
              "            '<a target=\"_blank\" href=https://colab.research.google.com/notebooks/data_table.ipynb>data table notebook</a>'\n",
              "            + ' to learn more about interactive tables.';\n",
              "          element.innerHTML = '';\n",
              "          dataTable['output_type'] = 'display_data';\n",
              "          await google.colab.output.renderOutput(dataTable, element);\n",
              "          const docLink = document.createElement('div');\n",
              "          docLink.innerHTML = docLinkHtml;\n",
              "          element.appendChild(docLink);\n",
              "        }\n",
              "      </script>\n",
              "    </div>\n",
              "  </div>\n",
              "  "
            ],
            "text/plain": [
              "   Pregnancies  Glucose  BloodPressure  ...   BMI  DiabetesPedigreeFunction  Age\n",
              "0            6      148             72  ...  33.6                     0.627   50\n",
              "1            1       85             66  ...  26.6                     0.351   31\n",
              "2            8      183             64  ...  23.3                     0.672   32\n",
              "3            1       89             66  ...  28.1                     0.167   21\n",
              "4            0      137             40  ...  43.1                     2.288   33\n",
              "\n",
              "[5 rows x 8 columns]"
            ]
          },
          "metadata": {},
          "execution_count": 6
        }
      ]
    },
    {
      "cell_type": "code",
      "source": [
        "#separate target values\n",
        "y = df['diabetes'].values\n",
        "#view target values\n",
        "y[0:5]"
      ],
      "metadata": {
        "colab": {
          "base_uri": "https://localhost:8080/"
        },
        "id": "LMkiOPVxwqRZ",
        "outputId": "0107ccc1-2b54-456e-ab0f-5c684a0f5e7b"
      },
      "execution_count": null,
      "outputs": [
        {
          "output_type": "execute_result",
          "data": {
            "text/plain": [
              "array([1, 0, 1, 0, 1])"
            ]
          },
          "metadata": {},
          "execution_count": 7
        }
      ]
    },
    {
      "cell_type": "code",
      "source": [
        "y.shape"
      ],
      "metadata": {
        "colab": {
          "base_uri": "https://localhost:8080/"
        },
        "id": "T1YkIGXsGdr4",
        "outputId": "0b45e540-03cd-47ed-8490-8f9add5958ad"
      },
      "execution_count": null,
      "outputs": [
        {
          "output_type": "execute_result",
          "data": {
            "text/plain": [
              "(768,)"
            ]
          },
          "metadata": {},
          "execution_count": 8
        }
      ]
    },
    {
      "cell_type": "code",
      "source": [
        "y.mean()"
      ],
      "metadata": {
        "colab": {
          "base_uri": "https://localhost:8080/"
        },
        "id": "_kVJL-sgHyGi",
        "outputId": "a2a444aa-1ae9-4d5e-9202-74895570f99b"
      },
      "execution_count": null,
      "outputs": [
        {
          "output_type": "execute_result",
          "data": {
            "text/plain": [
              "0.3489583333333333"
            ]
          },
          "metadata": {},
          "execution_count": 9
        }
      ]
    },
    {
      "cell_type": "code",
      "source": [
        "from sklearn.model_selection import train_test_split\n",
        "#split dataset into train and test data\n",
        "X_train, X_test, y_train, y_test = train_test_split(X, y, test_size=0.2, random_state=1, stratify=y)"
      ],
      "metadata": {
        "id": "y9TEZH30wyLu"
      },
      "execution_count": null,
      "outputs": []
    },
    {
      "cell_type": "code",
      "source": [
        "y_train.mean(), y_test.mean()"
      ],
      "metadata": {
        "colab": {
          "base_uri": "https://localhost:8080/"
        },
        "id": "wxbw1GGSH5Q3",
        "outputId": "d822cae3-6830-4bdf-bec0-1d67d2497f26"
      },
      "execution_count": null,
      "outputs": [
        {
          "output_type": "execute_result",
          "data": {
            "text/plain": [
              "(0.3485342019543974, 0.35064935064935066)"
            ]
          },
          "metadata": {},
          "execution_count": 11
        }
      ]
    },
    {
      "cell_type": "code",
      "source": [
        "print('X_train:', X_train.shape, X_train.shape[0]/df.shape[0])\n",
        "print('y_train:', y_train.shape)\n",
        "print('X_test:', X_test.shape, X_test.shape[0]/df.shape[0])\n",
        "print('y_test:', y_test.shape)"
      ],
      "metadata": {
        "colab": {
          "base_uri": "https://localhost:8080/"
        },
        "id": "KMO-myDZJQNi",
        "outputId": "5f5251f7-a060-4e87-f4eb-14c3eec29aaf"
      },
      "execution_count": null,
      "outputs": [
        {
          "output_type": "stream",
          "name": "stdout",
          "text": [
            "X_train: (614, 8) 0.7994791666666666\n",
            "y_train: (614,)\n",
            "X_test: (154, 8) 0.20052083333333334\n",
            "y_test: (154,)\n"
          ]
        }
      ]
    },
    {
      "cell_type": "code",
      "source": [
        "from sklearn.neighbors import KNeighborsClassifier\n",
        "# Create KNN classifier\n",
        "knn = KNeighborsClassifier(n_neighbors = 3)\n",
        "# Fit the classifier to the data\n",
        "knn.fit(X_train, y_train)"
      ],
      "metadata": {
        "colab": {
          "base_uri": "https://localhost:8080/"
        },
        "id": "f6ltZyy5xsQj",
        "outputId": "e8e0d445-7065-4b0f-839b-89d7bfac2aaa"
      },
      "execution_count": null,
      "outputs": [
        {
          "output_type": "execute_result",
          "data": {
            "text/plain": [
              "KNeighborsClassifier(n_neighbors=3)"
            ]
          },
          "metadata": {},
          "execution_count": 13
        }
      ]
    },
    {
      "cell_type": "code",
      "source": [
        "#show first 5 model predictions on the test data\n",
        "knn.predict(X_test)"
      ],
      "metadata": {
        "colab": {
          "base_uri": "https://localhost:8080/"
        },
        "id": "ybdwU3NlxyIq",
        "outputId": "2cc00c9c-bf29-46f8-a68e-82845f5524fc"
      },
      "execution_count": null,
      "outputs": [
        {
          "output_type": "execute_result",
          "data": {
            "text/plain": [
              "array([0, 0, 0, 0, 1, 0, 0, 0, 1, 0, 0, 1, 0, 0, 0, 0, 0, 0, 1, 0, 1, 0,\n",
              "       0, 0, 0, 0, 0, 0, 0, 0, 0, 1, 0, 0, 1, 1, 0, 1, 0, 0, 0, 1, 0, 0,\n",
              "       1, 0, 1, 0, 1, 0, 0, 0, 1, 0, 0, 0, 0, 0, 1, 1, 0, 0, 0, 0, 1, 0,\n",
              "       1, 1, 0, 0, 1, 0, 0, 1, 0, 0, 1, 1, 0, 1, 0, 1, 1, 1, 1, 0, 0, 0,\n",
              "       1, 0, 1, 0, 0, 0, 1, 0, 0, 0, 0, 1, 0, 0, 0, 1, 0, 1, 1, 0, 0, 1,\n",
              "       1, 1, 0, 1, 1, 1, 0, 0, 0, 1, 0, 0, 0, 1, 0, 1, 0, 0, 0, 1, 1, 0,\n",
              "       0, 0, 0, 0, 1, 1, 0, 0, 0, 0, 0, 0, 0, 0, 0, 1, 1, 0, 1, 0, 1, 1])"
            ]
          },
          "metadata": {},
          "execution_count": 14
        }
      ]
    },
    {
      "cell_type": "code",
      "source": [
        "knn.predict(X_test).shape"
      ],
      "metadata": {
        "colab": {
          "base_uri": "https://localhost:8080/"
        },
        "id": "aKBN5Yn0KcLM",
        "outputId": "c058a7b8-972b-4fd8-9b19-038d7ed5f235"
      },
      "execution_count": null,
      "outputs": [
        {
          "output_type": "execute_result",
          "data": {
            "text/plain": [
              "(154,)"
            ]
          },
          "metadata": {},
          "execution_count": 15
        }
      ]
    },
    {
      "cell_type": "code",
      "source": [
        "#show first 5 model predictions on the test data\n",
        "knn.predict_proba(X_test)[0:5]"
      ],
      "metadata": {
        "colab": {
          "base_uri": "https://localhost:8080/"
        },
        "id": "f_CLCahCxz6a",
        "outputId": "6855b514-088e-464a-beac-cece50de36da"
      },
      "execution_count": null,
      "outputs": [
        {
          "output_type": "execute_result",
          "data": {
            "text/plain": [
              "array([[1.        , 0.        ],\n",
              "       [0.66666667, 0.33333333],\n",
              "       [0.66666667, 0.33333333],\n",
              "       [0.66666667, 0.33333333],\n",
              "       [0.33333333, 0.66666667]])"
            ]
          },
          "metadata": {},
          "execution_count": 16
        }
      ]
    },
    {
      "cell_type": "code",
      "source": [
        "#check accuracy of our model on the test data\n",
        "print(knn.score(X_train, y_train))\n",
        "print(knn.score(X_test, y_test))"
      ],
      "metadata": {
        "colab": {
          "base_uri": "https://localhost:8080/"
        },
        "id": "VBBXMWCCx9uC",
        "outputId": "20a2c0fa-0aa6-46c8-ff2c-e6b85eb2ee87"
      },
      "execution_count": null,
      "outputs": [
        {
          "output_type": "stream",
          "name": "stdout",
          "text": [
            "0.8436482084690554\n",
            "0.6688311688311688\n"
          ]
        }
      ]
    },
    {
      "cell_type": "code",
      "source": [
        "from sklearn.metrics import roc_auc_score\n",
        "print(roc_auc_score(y_train, knn.predict_proba(X_train)[:, 1]))\n",
        "print(roc_auc_score(y_test, knn.predict_proba(X_test)[:, 1]))"
      ],
      "metadata": {
        "colab": {
          "base_uri": "https://localhost:8080/"
        },
        "id": "E8KD7aLDzNlU",
        "outputId": "45fd45e3-7753-46b3-c9c4-cd3236190acc"
      },
      "execution_count": null,
      "outputs": [
        {
          "output_type": "stream",
          "name": "stdout",
          "text": [
            "0.9159228971962617\n",
            "0.6888888888888889\n"
          ]
        }
      ]
    },
    {
      "cell_type": "code",
      "source": [
        "threshold"
      ],
      "metadata": {
        "colab": {
          "base_uri": "https://localhost:8080/",
          "height": 172
        },
        "id": "RDBHoNUANjtL",
        "outputId": "a2d797bf-2e1f-41d8-a569-b87f59ba4e5f"
      },
      "execution_count": null,
      "outputs": [
        {
          "output_type": "error",
          "ename": "NameError",
          "evalue": "ignored",
          "traceback": [
            "\u001b[0;31m---------------------------------------------------------------------------\u001b[0m",
            "\u001b[0;31mNameError\u001b[0m                                 Traceback (most recent call last)",
            "\u001b[0;32m<ipython-input-18-91294fe955f7>\u001b[0m in \u001b[0;36m<module>\u001b[0;34m()\u001b[0m\n\u001b[0;32m----> 1\u001b[0;31m \u001b[0mthreshold\u001b[0m\u001b[0;34m\u001b[0m\u001b[0;34m\u001b[0m\u001b[0m\n\u001b[0m",
            "\u001b[0;31mNameError\u001b[0m: name 'threshold' is not defined"
          ]
        }
      ]
    },
    {
      "cell_type": "code",
      "source": [
        "import sklearn.metrics as metrics\n",
        "# calculate the fpr and tpr for all thresholds of the classification\n",
        "probs = knn.predict_proba(X_test)\n",
        "preds = probs[:,1]\n",
        "fpr, tpr, threshold = metrics.roc_curve(y_test, preds)\n",
        "roc_auc = metrics.auc(fpr, tpr)\n",
        "\n",
        "import matplotlib.pyplot as plt\n",
        "plt.title('Receiver Operating Characteristic')\n",
        "plt.plot(fpr, tpr, 'b', label = f'AUC = {round(roc_auc, 2)}')\n",
        "plt.legend(loc = 'lower right')\n",
        "plt.plot([0, 1], [0, 1],'r--')\n",
        "plt.xlim([0, 1])\n",
        "plt.ylim([0, 1])\n",
        "plt.ylabel('True Positive Rate')\n",
        "plt.xlabel('False Positive Rate')\n",
        "plt.show()"
      ],
      "metadata": {
        "colab": {
          "base_uri": "https://localhost:8080/",
          "height": 294
        },
        "id": "Nqu4tgpFzqLb",
        "outputId": "9b1778b9-0a01-48f2-9181-1c3d81350e94"
      },
      "execution_count": null,
      "outputs": [
        {
          "output_type": "display_data",
          "data": {
            "image/png": "[encoded data removed]",
            "text/plain": [
              "<Figure size 432x288 with 1 Axes>"
            ]
          },
          "metadata": {
            "needs_background": "light"
          }
        }
      ]
    },
    {
      "cell_type": "code",
      "source": [
        "from sklearn.model_selection import cross_val_score\n",
        "import numpy as np\n",
        "#create a new KNN model\n",
        "knn_cv = KNeighborsClassifier(n_neighbors=4)\n",
        "#train model with cv of 5\n",
        "cv_scores = cross_val_score(knn_cv, X_train, y_train, cv=5)\n",
        "#print each cv score (accuracy) and average them\n",
        "print(cv_scores)\n",
        "print('cv_scores mean:{}'.format(np.mean(cv_scores)))"
      ],
      "metadata": {
        "colab": {
          "base_uri": "https://localhost:8080/"
        },
        "id": "4GPdn_9lySTs",
        "outputId": "a5f41b09-3b9c-4b46-e6b2-e24201445325"
      },
      "execution_count": null,
      "outputs": [
        {
          "output_type": "stream",
          "name": "stdout",
          "text": [
            "[0.64227642 0.75609756 0.69918699 0.73170732 0.73770492]\n",
            "cv_scores mean:0.7133946421431427\n"
          ]
        }
      ]
    },
    {
      "cell_type": "code",
      "source": [
        "score_train = []\n",
        "score_test = []\n",
        "N = 300\n",
        "for n in range(1, N+1):\n",
        "  knn_n = KNeighborsClassifier(n_neighbors=n)\n",
        "  cv_scores = cross_val_score(knn_n, X_train, y_train, cv=5)\n",
        "  knn_n.fit(X_train, y_train)\n",
        "\n",
        "  #score_tr = roc_auc_score(y_train, knn_n.predict_proba(X_train)[:, 1]) #knn_n.score(X_train, y_train)\n",
        "\n",
        "  knn_n.score(X_train, y_train)\n",
        "  #score_train.append(score_tr)\n",
        "  #score_ts = roc_auc_score(y_test, knn_n.predict_proba(X_test)[:, 1]) #knn_n.score(X_test, y_test)\n",
        "  knn_n.score(X_test, y_test)\n",
        "  #score_test.append(score_ts)\n",
        "\n",
        "  print('Количество соседей:', n)\n",
        "  print('cv_scores mean:{}'.format(np.mean(cv_scores)))\n",
        "  #print('score train:', score_tr)\n",
        "  #print('score test:', score_ts)"
      ],
      "metadata": {
        "colab": {
          "base_uri": "https://localhost:8080/"
        },
        "id": "5WDPxEIMQoE6",
        "outputId": "e8f406fa-1866-4667-8258-4e3b47f16e11"
      },
      "execution_count": null,
      "outputs": [
        {
          "output_type": "stream",
          "name": "stdout",
          "text": [
            "Количество соседей: 1\n",
            "cv_scores mean:0.6628948420631747\n",
            "Количество соседей: 2\n",
            "cv_scores mean:0.690590430494469\n",
            "Количество соседей: 3\n",
            "cv_scores mean:0.7052379048380647\n",
            "Количество соседей: 4\n",
            "cv_scores mean:0.7133946421431427\n",
            "Количество соседей: 5\n",
            "cv_scores mean:0.7231107556977209\n",
            "Количество соседей: 6\n",
            "cv_scores mean:0.7296281487405037\n",
            "Количество соседей: 7\n",
            "cv_scores mean:0.7312674930027988\n",
            "Количество соседей: 8\n",
            "cv_scores mean:0.7459282953485273\n",
            "Количество соседей: 9\n",
            "cv_scores mean:0.7393975743036119\n",
            "Количество соседей: 10\n",
            "cv_scores mean:0.7442889510862322\n",
            "Количество соседей: 11\n",
            "cv_scores mean:0.7491803278688525\n",
            "Количество соседей: 12\n",
            "cv_scores mean:0.7556977209116353\n",
            "Количество соседей: 13\n",
            "cv_scores mean:0.75077968812475\n",
            "Количество соседей: 14\n",
            "cv_scores mean:0.7556977209116353\n",
            "Количество соседей: 15\n",
            "cv_scores mean:0.7491803278688525\n",
            "Количество соседей: 16\n",
            "cv_scores mean:0.7573104091696654\n",
            "Количество соседей: 17\n",
            "cv_scores mean:0.752472344395575\n",
            "Количество соседей: 18\n",
            "cv_scores mean:0.7524456883913101\n",
            "Количество соседей: 19\n",
            "cv_scores mean:0.7508063441290151\n",
            "Количество соседей: 20\n",
            "cv_scores mean:0.7573370651739304\n",
            "Количество соседей: 21\n",
            "cv_scores mean:0.7426629348260696\n",
            "Количество соседей: 22\n",
            "cv_scores mean:0.7475409836065574\n",
            "Количество соседей: 23\n",
            "cv_scores mean:0.7443022790883645\n",
            "Количество соседей: 24\n",
            "cv_scores mean:0.7605757696921231\n",
            "Количество соседей: 25\n",
            "cv_scores mean:0.7508330001332799\n",
            "Количество соседей: 26\n",
            "cv_scores mean:0.7508330001332799\n",
            "Количество соседей: 27\n",
            "cv_scores mean:0.74922031187525\n",
            "Количество соседей: 28\n",
            "cv_scores mean:0.7557243769159003\n",
            "Количество соседей: 29\n",
            "cv_scores mean:0.7459549513527921\n",
            "Количество соседей: 30\n",
            "cv_scores mean:0.7557377049180328\n",
            "Количество соседей: 31\n",
            "cv_scores mean:0.7492069838731175\n",
            "Количество соседей: 32\n",
            "cv_scores mean:0.7540983606557375\n",
            "Количество соседей: 33\n",
            "cv_scores mean:0.749193655870985\n",
            "Количество соседей: 34\n",
            "cv_scores mean:0.7442889510862323\n",
            "Количество соседей: 35\n",
            "cv_scores mean:0.741036918565907\n",
            "Количество соседей: 36\n",
            "cv_scores mean:0.7394242303078769\n",
            "Количество соседей: 37\n",
            "cv_scores mean:0.7377848860455818\n",
            "Количество соседей: 38\n",
            "cv_scores mean:0.7345328535252567\n",
            "Количество соседей: 39\n",
            "cv_scores mean:0.732933493269359\n",
            "Количество соседей: 40\n",
            "cv_scores mean:0.7377715580434494\n",
            "Количество соседей: 41\n",
            "cv_scores mean:0.7312275089964014\n",
            "Количество соседей: 42\n",
            "cv_scores mean:0.7361322137811542\n",
            "Количество соседей: 43\n",
            "cv_scores mean:0.7426762628282021\n",
            "Количество соседей: 44\n",
            "cv_scores mean:0.7426629348260696\n",
            "Количество соседей: 45\n",
            "cv_scores mean:0.7459282953485273\n",
            "Количество соседей: 46\n",
            "cv_scores mean:0.7394109023057445\n",
            "Количество соседей: 47\n",
            "cv_scores mean:0.7475676396108224\n",
            "Количество соседей: 48\n",
            "cv_scores mean:0.7377848860455818\n",
            "Количество соседей: 49\n",
            "cv_scores mean:0.7312808210049313\n",
            "Количество соседей: 50\n",
            "cv_scores mean:0.7377715580434494\n",
            "Количество соседей: 51\n",
            "cv_scores mean:0.7393975743036119\n",
            "Количество соседей: 52\n",
            "cv_scores mean:0.7361188857790217\n",
            "Количество соседей: 53\n",
            "cv_scores mean:0.7361455417832866\n",
            "Количество соседей: 54\n",
            "cv_scores mean:0.7296014927362389\n",
            "Количество соседей: 55\n",
            "cv_scores mean:0.7312275089964014\n",
            "Количество соседей: 56\n",
            "cv_scores mean:0.7328668532586965\n",
            "Количество соседей: 57\n",
            "cv_scores mean:0.7280021324803412\n",
            "Количество соседей: 58\n",
            "cv_scores mean:0.7280021324803412\n",
            "Количество соседей: 59\n",
            "cv_scores mean:0.7247367719578834\n",
            "Количество соседей: 60\n",
            "cv_scores mean:0.7263494602159136\n",
            "Количество соседей: 61\n",
            "cv_scores mean:0.7263494602159136\n",
            "Количество соседей: 62\n",
            "cv_scores mean:0.7312408369985339\n",
            "Количество соседей: 63\n",
            "cv_scores mean:0.7296148207383714\n",
            "Количество соседей: 64\n",
            "cv_scores mean:0.7344928695188592\n",
            "Количество соседей: 65\n",
            "cv_scores mean:0.7312541650006664\n",
            "Количество соседей: 66\n",
            "cv_scores mean:0.7328668532586965\n",
            "Количество соседей: 67\n",
            "cv_scores mean:0.7279888044782087\n",
            "Количество соседей: 68\n",
            "cv_scores mean:0.7328935092629614\n",
            "Количество соседей: 69\n",
            "cv_scores mean:0.732906837265094\n",
            "Количество соседей: 70\n",
            "cv_scores mean:0.7247900839664134\n",
            "Количество соседей: 71\n",
            "cv_scores mean:0.7198987071837932\n",
            "Количество соседей: 72\n",
            "cv_scores mean:0.7264027722244436\n",
            "Количество соседей: 73\n",
            "cv_scores mean:0.718259362921498\n",
            "Количество соседей: 74\n",
            "cv_scores mean:0.7198720511795281\n",
            "Количество соседей: 75\n",
            "cv_scores mean:0.7166200186592029\n",
            "Количество соседей: 76\n",
            "cv_scores mean:0.7198987071837932\n",
            "Количество соседей: 77\n",
            "cv_scores mean:0.7215247234439557\n",
            "Количество соседей: 78\n",
            "cv_scores mean:0.7149940023990403\n",
            "Количество соседей: 79\n",
            "cv_scores mean:0.718286018925763\n",
            "Количество соседей: 80\n",
            "cv_scores mean:0.7150073304011728\n",
            "Количество соседей: 81\n",
            "cv_scores mean:0.7182726909236306\n",
            "Количество соседей: 82\n",
            "cv_scores mean:0.7166333466613354\n",
            "Количество соседей: 83\n",
            "cv_scores mean:0.7199120351859256\n",
            "Количество соседей: 84\n",
            "cv_scores mean:0.7117819538851127\n",
            "Количество соседей: 85\n",
            "cv_scores mean:0.7101426096228176\n",
            "Количество соседей: 86\n",
            "cv_scores mean:0.7198853791816606\n",
            "Количество соседей: 87\n",
            "cv_scores mean:0.7231640677062509\n",
            "Количество соседей: 88\n",
            "cv_scores mean:0.7280421164867387\n",
            "Количество соседей: 89\n",
            "cv_scores mean:0.7231773957083834\n",
            "Количество соседей: 90\n",
            "cv_scores mean:0.7231640677062509\n",
            "Количество соседей: 91\n",
            "cv_scores mean:0.7199120351859256\n",
            "Количество соседей: 92\n",
            "cv_scores mean:0.7199120351859256\n",
            "Количество соседей: 93\n",
            "cv_scores mean:0.718286018925763\n",
            "Количество соседей: 94\n",
            "cv_scores mean:0.7150206584033053\n",
            "Количество соседей: 95\n",
            "cv_scores mean:0.7166600026656005\n",
            "Количество соседей: 96\n",
            "cv_scores mean:0.7117552978808476\n",
            "Количество соседей: 97\n",
            "cv_scores mean:0.7117552978808476\n",
            "Количество соседей: 98\n",
            "cv_scores mean:0.7101426096228176\n",
            "Количество соседей: 99\n",
            "cv_scores mean:0.7150339864054379\n",
            "Количество соседей: 100\n",
            "cv_scores mean:0.7068905771024924\n",
            "Количество соседей: 101\n",
            "cv_scores mean:0.7150339864054378\n",
            "Количество соседей: 102\n",
            "cv_scores mean:0.7085165933626549\n",
            "Количество соседей: 103\n",
            "cv_scores mean:0.7101426096228176\n",
            "Количество соседей: 104\n",
            "cv_scores mean:0.7019725443156071\n",
            "Количество соседей: 105\n",
            "cv_scores mean:0.6987338397974143\n",
            "Количество соседей: 106\n",
            "cv_scores mean:0.6987338397974143\n",
            "Количество соседей: 107\n",
            "cv_scores mean:0.7068505930960949\n",
            "Количество соседей: 108\n",
            "cv_scores mean:0.6954684792749567\n",
            "Количество соседей: 109\n",
            "cv_scores mean:0.6954684792749568\n",
            "Количество соседей: 110\n",
            "cv_scores mean:0.6987205117952819\n",
            "Количество соседей: 111\n",
            "cv_scores mean:0.700359856057577\n",
            "Количество соседей: 112\n",
            "cv_scores mean:0.6954418232706917\n",
            "Количество соседей: 113\n",
            "cv_scores mean:0.7085165933626549\n",
            "Количество соседей: 114\n",
            "cv_scores mean:0.7003598560575769\n",
            "Количество соседей: 115\n",
            "cv_scores mean:0.7036252165800347\n",
            "Количество соседей: 116\n",
            "cv_scores mean:0.6970944955351193\n",
            "Количество соседей: 117\n",
            "cv_scores mean:0.6938424630147941\n",
            "Количество соседей: 118\n",
            "cv_scores mean:0.6889377582300413\n",
            "Количество соседей: 119\n",
            "cv_scores mean:0.6922164467546315\n",
            "Количество соседей: 120\n",
            "cv_scores mean:0.6987205117952818\n",
            "Количество соседей: 121\n",
            "cv_scores mean:0.6987205117952818\n",
            "Количество соседей: 122\n",
            "cv_scores mean:0.6938291350126616\n",
            "Количество соседей: 123\n",
            "cv_scores mean:0.6922164467546315\n",
            "Количество соседей: 124\n",
            "cv_scores mean:0.6889510862321738\n",
            "Количество соседей: 125\n",
            "cv_scores mean:0.6889510862321738\n",
            "Количество соседей: 126\n",
            "cv_scores mean:0.6872984139677462\n",
            "Количество соседей: 127\n",
            "cv_scores mean:0.6905637744902039\n",
            "Количество соседей: 128\n",
            "cv_scores mean:0.6856723977075837\n",
            "Количество соседей: 129\n",
            "cv_scores mean:0.6824203651872585\n",
            "Количество соседей: 130\n",
            "cv_scores mean:0.6824203651872585\n",
            "Количество соседей: 131\n",
            "cv_scores mean:0.6807943489270959\n",
            "Количество соседей: 132\n",
            "cv_scores mean:0.677528988404638\n",
            "Количество соседей: 133\n",
            "cv_scores mean:0.6775423164067707\n",
            "Количество соседей: 134\n",
            "cv_scores mean:0.675916300146608\n",
            "Количество соседей: 135\n",
            "cv_scores mean:0.675916300146608\n",
            "Количество соседей: 136\n",
            "cv_scores mean:0.6726642676262828\n",
            "Количество соседей: 137\n",
            "cv_scores mean:0.6742902838864454\n",
            "Количество соседей: 138\n",
            "cv_scores mean:0.667786218845795\n",
            "Количество соседей: 139\n",
            "cv_scores mean:0.6694122351059575\n",
            "Количество соседей: 140\n",
            "cv_scores mean:0.6612554978008797\n",
            "Количество соседей: 141\n",
            "cv_scores mean:0.6661468745834999\n",
            "Количество соседей: 142\n",
            "cv_scores mean:0.657990137278422\n",
            "Количество соседей: 143\n",
            "cv_scores mean:0.6612554978008797\n",
            "Количество соседей: 144\n",
            "cv_scores mean:0.6580034652805545\n",
            "Количество соседей: 145\n",
            "cv_scores mean:0.6580034652805545\n",
            "Количество соседей: 146\n",
            "cv_scores mean:0.6563774490203919\n",
            "Количество соседей: 147\n",
            "cv_scores mean:0.6563641210182594\n",
            "Количество соседей: 148\n",
            "cv_scores mean:0.6563774490203919\n",
            "Количество соседей: 149\n",
            "cv_scores mean:0.6547381047580968\n",
            "Количество соседей: 150\n",
            "cv_scores mean:0.6531254165000667\n",
            "Количество соседей: 151\n",
            "cv_scores mean:0.6531254165000667\n",
            "Количество соседей: 152\n",
            "cv_scores mean:0.6547514327602293\n",
            "Количество соседей: 153\n",
            "cv_scores mean:0.6563774490203919\n",
            "Количество соседей: 154\n",
            "cv_scores mean:0.6563907770225244\n",
            "Количество соседей: 155\n",
            "cv_scores mean:0.6547514327602293\n",
            "Количество соседей: 156\n",
            "cv_scores mean:0.6563907770225244\n",
            "Количество соседей: 157\n",
            "cv_scores mean:0.6563907770225244\n",
            "Количество соседей: 158\n",
            "cv_scores mean:0.6547514327602293\n",
            "Количество соседей: 159\n",
            "cv_scores mean:0.6547514327602293\n",
            "Количество соседей: 160\n",
            "cv_scores mean:0.6531120884979341\n",
            "Количество соседей: 161\n",
            "cv_scores mean:0.6531120884979341\n",
            "Количество соседей: 162\n",
            "cv_scores mean:0.6514727442356391\n",
            "Количество соседей: 163\n",
            "cv_scores mean:0.6531120884979341\n",
            "Количество соседей: 164\n",
            "cv_scores mean:0.6514727442356391\n",
            "Количество соседей: 165\n",
            "cv_scores mean:0.6514727442356391\n",
            "Количество соседей: 166\n",
            "cv_scores mean:0.6514727442356391\n",
            "Количество соседей: 167\n",
            "cv_scores mean:0.6514727442356391\n",
            "Количество соседей: 168\n",
            "cv_scores mean:0.6514727442356391\n",
            "Количество соседей: 169\n",
            "cv_scores mean:0.6514727442356391\n",
            "Количество соседей: 170\n",
            "cv_scores mean:0.6514727442356391\n",
            "Количество соседей: 171\n",
            "cv_scores mean:0.6514727442356391\n",
            "Количество соседей: 172\n",
            "cv_scores mean:0.6514727442356391\n",
            "Количество соседей: 173\n",
            "cv_scores mean:0.6514727442356391\n",
            "Количество соседей: 174\n",
            "cv_scores mean:0.6514727442356391\n",
            "Количество соседей: 175\n",
            "cv_scores mean:0.6514727442356391\n",
            "Количество соседей: 176\n",
            "cv_scores mean:0.6514727442356391\n",
            "Количество соседей: 177\n",
            "cv_scores mean:0.6514727442356391\n",
            "Количество соседей: 178\n",
            "cv_scores mean:0.6514727442356391\n",
            "Количество соседей: 179\n",
            "cv_scores mean:0.6514727442356391\n",
            "Количество соседей: 180\n",
            "cv_scores mean:0.6514727442356391\n",
            "Количество соседей: 181\n",
            "cv_scores mean:0.6514727442356391\n",
            "Количество соседей: 182\n",
            "cv_scores mean:0.6514727442356391\n",
            "Количество соседей: 183\n",
            "cv_scores mean:0.6514727442356391\n",
            "Количество соседей: 184\n",
            "cv_scores mean:0.6514727442356391\n",
            "Количество соседей: 185\n",
            "cv_scores mean:0.6514727442356391\n",
            "Количество соседей: 186\n",
            "cv_scores mean:0.6514727442356391\n",
            "Количество соседей: 187\n",
            "cv_scores mean:0.6514727442356391\n",
            "Количество соседей: 188\n",
            "cv_scores mean:0.6514727442356391\n",
            "Количество соседей: 189\n",
            "cv_scores mean:0.6514727442356391\n",
            "Количество соседей: 190\n",
            "cv_scores mean:0.6514727442356391\n",
            "Количество соседей: 191\n",
            "cv_scores mean:0.6514727442356391\n",
            "Количество соседей: 192\n",
            "cv_scores mean:0.6514727442356391\n",
            "Количество соседей: 193\n",
            "cv_scores mean:0.6514727442356391\n",
            "Количество соседей: 194\n",
            "cv_scores mean:0.6514727442356391\n",
            "Количество соседей: 195\n",
            "cv_scores mean:0.6514727442356391\n",
            "Количество соседей: 196\n",
            "cv_scores mean:0.6514727442356391\n",
            "Количество соседей: 197\n",
            "cv_scores mean:0.6514727442356391\n",
            "Количество соседей: 198\n",
            "cv_scores mean:0.6514727442356391\n",
            "Количество соседей: 199\n",
            "cv_scores mean:0.6514727442356391\n",
            "Количество соседей: 200\n",
            "cv_scores mean:0.6514727442356391\n",
            "Количество соседей: 201\n",
            "cv_scores mean:0.6514727442356391\n",
            "Количество соседей: 202\n",
            "cv_scores mean:0.6514727442356391\n",
            "Количество соседей: 203\n",
            "cv_scores mean:0.6514727442356391\n",
            "Количество соседей: 204\n",
            "cv_scores mean:0.6514727442356391\n",
            "Количество соседей: 205\n",
            "cv_scores mean:0.6514727442356391\n",
            "Количество соседей: 206\n",
            "cv_scores mean:0.6514727442356391\n",
            "Количество соседей: 207\n",
            "cv_scores mean:0.6514727442356391\n",
            "Количество соседей: 208\n",
            "cv_scores mean:0.6514727442356391\n",
            "Количество соседей: 209\n",
            "cv_scores mean:0.6514727442356391\n",
            "Количество соседей: 210\n",
            "cv_scores mean:0.6514727442356391\n",
            "Количество соседей: 211\n",
            "cv_scores mean:0.6514727442356391\n",
            "Количество соседей: 212\n",
            "cv_scores mean:0.6514727442356391\n",
            "Количество соседей: 213\n",
            "cv_scores mean:0.6514727442356391\n",
            "Количество соседей: 214\n",
            "cv_scores mean:0.6514727442356391\n",
            "Количество соседей: 215\n",
            "cv_scores mean:0.6514727442356391\n",
            "Количество соседей: 216\n",
            "cv_scores mean:0.6514727442356391\n",
            "Количество соседей: 217\n",
            "cv_scores mean:0.6514727442356391\n",
            "Количество соседей: 218\n",
            "cv_scores mean:0.6514727442356391\n",
            "Количество соседей: 219\n",
            "cv_scores mean:0.6514727442356391\n",
            "Количество соседей: 220\n",
            "cv_scores mean:0.6514727442356391\n",
            "Количество соседей: 221\n",
            "cv_scores mean:0.6514727442356391\n",
            "Количество соседей: 222\n",
            "cv_scores mean:0.6514727442356391\n",
            "Количество соседей: 223\n",
            "cv_scores mean:0.6514727442356391\n",
            "Количество соседей: 224\n",
            "cv_scores mean:0.6514727442356391\n",
            "Количество соседей: 225\n",
            "cv_scores mean:0.6514727442356391\n",
            "Количество соседей: 226\n",
            "cv_scores mean:0.6514727442356391\n",
            "Количество соседей: 227\n",
            "cv_scores mean:0.6514727442356391\n",
            "Количество соседей: 228\n",
            "cv_scores mean:0.6514727442356391\n",
            "Количество соседей: 229\n",
            "cv_scores mean:0.6514727442356391\n",
            "Количество соседей: 230\n",
            "cv_scores mean:0.6514727442356391\n",
            "Количество соседей: 231\n",
            "cv_scores mean:0.6514727442356391\n",
            "Количество соседей: 232\n",
            "cv_scores mean:0.6514727442356391\n",
            "Количество соседей: 233\n",
            "cv_scores mean:0.6514727442356391\n",
            "Количество соседей: 234\n",
            "cv_scores mean:0.6514727442356391\n",
            "Количество соседей: 235\n",
            "cv_scores mean:0.6514727442356391\n",
            "Количество соседей: 236\n",
            "cv_scores mean:0.6514727442356391\n",
            "Количество соседей: 237\n",
            "cv_scores mean:0.6514727442356391\n",
            "Количество соседей: 238\n",
            "cv_scores mean:0.6514727442356391\n",
            "Количество соседей: 239\n",
            "cv_scores mean:0.6514727442356391\n",
            "Количество соседей: 240\n",
            "cv_scores mean:0.6514727442356391\n",
            "Количество соседей: 241\n",
            "cv_scores mean:0.6514727442356391\n",
            "Количество соседей: 242\n",
            "cv_scores mean:0.6514727442356391\n",
            "Количество соседей: 243\n",
            "cv_scores mean:0.6514727442356391\n",
            "Количество соседей: 244\n",
            "cv_scores mean:0.6514727442356391\n",
            "Количество соседей: 245\n",
            "cv_scores mean:0.6514727442356391\n",
            "Количество соседей: 246\n",
            "cv_scores mean:0.6514727442356391\n",
            "Количество соседей: 247\n",
            "cv_scores mean:0.6514727442356391\n",
            "Количество соседей: 248\n",
            "cv_scores mean:0.6514727442356391\n",
            "Количество соседей: 249\n",
            "cv_scores mean:0.6514727442356391\n",
            "Количество соседей: 250\n",
            "cv_scores mean:0.6514727442356391\n",
            "Количество соседей: 251\n",
            "cv_scores mean:0.6514727442356391\n",
            "Количество соседей: 252\n",
            "cv_scores mean:0.6514727442356391\n",
            "Количество соседей: 253\n",
            "cv_scores mean:0.6514727442356391\n",
            "Количество соседей: 254\n",
            "cv_scores mean:0.6514727442356391\n",
            "Количество соседей: 255\n",
            "cv_scores mean:0.6514727442356391\n",
            "Количество соседей: 256\n",
            "cv_scores mean:0.6514727442356391\n",
            "Количество соседей: 257\n",
            "cv_scores mean:0.6514727442356391\n",
            "Количество соседей: 258\n",
            "cv_scores mean:0.6514727442356391\n",
            "Количество соседей: 259\n",
            "cv_scores mean:0.6514727442356391\n",
            "Количество соседей: 260\n",
            "cv_scores mean:0.6514727442356391\n",
            "Количество соседей: 261\n",
            "cv_scores mean:0.6514727442356391\n",
            "Количество соседей: 262\n",
            "cv_scores mean:0.6514727442356391\n",
            "Количество соседей: 263\n",
            "cv_scores mean:0.6514727442356391\n",
            "Количество соседей: 264\n",
            "cv_scores mean:0.6514727442356391\n",
            "Количество соседей: 265\n",
            "cv_scores mean:0.6514727442356391\n",
            "Количество соседей: 266\n",
            "cv_scores mean:0.6514727442356391\n",
            "Количество соседей: 267\n",
            "cv_scores mean:0.6514727442356391\n",
            "Количество соседей: 268\n",
            "cv_scores mean:0.6514727442356391\n",
            "Количество соседей: 269\n",
            "cv_scores mean:0.6514727442356391\n",
            "Количество соседей: 270\n",
            "cv_scores mean:0.6514727442356391\n",
            "Количество соседей: 271\n",
            "cv_scores mean:0.6514727442356391\n",
            "Количество соседей: 272\n",
            "cv_scores mean:0.6514727442356391\n",
            "Количество соседей: 273\n",
            "cv_scores mean:0.6514727442356391\n",
            "Количество соседей: 274\n",
            "cv_scores mean:0.6514727442356391\n",
            "Количество соседей: 275\n",
            "cv_scores mean:0.6514727442356391\n",
            "Количество соседей: 276\n",
            "cv_scores mean:0.6514727442356391\n",
            "Количество соседей: 277\n",
            "cv_scores mean:0.6514727442356391\n",
            "Количество соседей: 278\n",
            "cv_scores mean:0.6514727442356391\n",
            "Количество соседей: 279\n",
            "cv_scores mean:0.6514727442356391\n",
            "Количество соседей: 280\n",
            "cv_scores mean:0.6514727442356391\n",
            "Количество соседей: 281\n",
            "cv_scores mean:0.6514727442356391\n",
            "Количество соседей: 282\n",
            "cv_scores mean:0.6514727442356391\n",
            "Количество соседей: 283\n",
            "cv_scores mean:0.6514727442356391\n",
            "Количество соседей: 284\n",
            "cv_scores mean:0.6514727442356391\n",
            "Количество соседей: 285\n",
            "cv_scores mean:0.6514727442356391\n",
            "Количество соседей: 286\n",
            "cv_scores mean:0.6514727442356391\n",
            "Количество соседей: 287\n",
            "cv_scores mean:0.6514727442356391\n",
            "Количество соседей: 288\n",
            "cv_scores mean:0.6514727442356391\n",
            "Количество соседей: 289\n",
            "cv_scores mean:0.6514727442356391\n",
            "Количество соседей: 290\n",
            "cv_scores mean:0.6514727442356391\n",
            "Количество соседей: 291\n",
            "cv_scores mean:0.6514727442356391\n",
            "Количество соседей: 292\n",
            "cv_scores mean:0.6514727442356391\n",
            "Количество соседей: 293\n",
            "cv_scores mean:0.6514727442356391\n",
            "Количество соседей: 294\n",
            "cv_scores mean:0.6514727442356391\n",
            "Количество соседей: 295\n",
            "cv_scores mean:0.6514727442356391\n",
            "Количество соседей: 296\n",
            "cv_scores mean:0.6514727442356391\n",
            "Количество соседей: 297\n",
            "cv_scores mean:0.6514727442356391\n",
            "Количество соседей: 298\n",
            "cv_scores mean:0.6514727442356391\n",
            "Количество соседей: 299\n",
            "cv_scores mean:0.6514727442356391\n",
            "Количество соседей: 300\n",
            "cv_scores mean:0.6514727442356391\n"
          ]
        }
      ]
    },
    {
      "cell_type": "code",
      "source": [
        "plt.figure(figsize=(12, 8))\n",
        "plt.plot(range(1, N+1), score_train, label='train')\n",
        "plt.plot(range(1, N+1),score_test, label='test')\n",
        "plt.legend()\n",
        "plt.show()"
      ],
      "metadata": {
        "id": "cfyu9H8AQnuT"
      },
      "execution_count": null,
      "outputs": []
    },
    {
      "cell_type": "code",
      "source": [
        "np.argmax(score_test) + 1"
      ],
      "metadata": {
        "colab": {
          "base_uri": "https://localhost:8080/"
        },
        "id": "oWlNfN5TVltf",
        "outputId": "8e3cde11-8117-4014-b8e4-955708706ff9"
      },
      "execution_count": null,
      "outputs": [
        {
          "output_type": "execute_result",
          "data": {
            "text/plain": [
              "15"
            ]
          },
          "metadata": {},
          "execution_count": 46
        }
      ]
    },
    {
      "cell_type": "code",
      "source": [
        "# Create KNN classifier\n",
        "knn_best = KNeighborsClassifier(n_neighbors = 15)\n",
        "# Fit the classifier to the data\n",
        "knn_best.fit(X_train,y_train)\n",
        "\n",
        "#check accuracy of our model on the test data\n",
        "print(knn_best.score(X_train, y_train))\n",
        "print(knn_best.score(X_test, y_test))\n",
        "\n",
        "print(roc_auc_score(y_train, knn_best.predict_proba(X_train)[:, 1]))\n",
        "print(roc_auc_score(y_test, knn_best.predict_proba(X_test)[:, 1]))"
      ],
      "metadata": {
        "colab": {
          "base_uri": "https://localhost:8080/",
          "height": 264
        },
        "id": "getwm9krYex4",
        "outputId": "c2b93d34-7ae7-4b34-8dfa-e8106b9cb6c8"
      },
      "execution_count": null,
      "outputs": [
        {
          "output_type": "stream",
          "name": "stdout",
          "text": [
            "0.7882736156351792\n",
            "0.7402597402597403\n"
          ]
        },
        {
          "output_type": "error",
          "ename": "NameError",
          "evalue": "ignored",
          "traceback": [
            "\u001b[0;31m---------------------------------------------------------------------------\u001b[0m",
            "\u001b[0;31mNameError\u001b[0m                                 Traceback (most recent call last)",
            "\u001b[0;32m<ipython-input-28-398c23f739c8>\u001b[0m in \u001b[0;36m<module>\u001b[0;34m()\u001b[0m\n\u001b[1;32m      8\u001b[0m \u001b[0mprint\u001b[0m\u001b[0;34m(\u001b[0m\u001b[0mknn_best\u001b[0m\u001b[0;34m.\u001b[0m\u001b[0mscore\u001b[0m\u001b[0;34m(\u001b[0m\u001b[0mX_test\u001b[0m\u001b[0;34m,\u001b[0m \u001b[0my_test\u001b[0m\u001b[0;34m)\u001b[0m\u001b[0;34m)\u001b[0m\u001b[0;34m\u001b[0m\u001b[0;34m\u001b[0m\u001b[0m\n\u001b[1;32m      9\u001b[0m \u001b[0;34m\u001b[0m\u001b[0m\n\u001b[0;32m---> 10\u001b[0;31m \u001b[0mprint\u001b[0m\u001b[0;34m(\u001b[0m\u001b[0mroc_auc_score\u001b[0m\u001b[0;34m(\u001b[0m\u001b[0my_train\u001b[0m\u001b[0;34m,\u001b[0m \u001b[0mknn_best\u001b[0m\u001b[0;34m.\u001b[0m\u001b[0mpredict_proba\u001b[0m\u001b[0;34m(\u001b[0m\u001b[0mX_train\u001b[0m\u001b[0;34m)\u001b[0m\u001b[0;34m[\u001b[0m\u001b[0;34m:\u001b[0m\u001b[0;34m,\u001b[0m \u001b[0;36m1\u001b[0m\u001b[0;34m]\u001b[0m\u001b[0;34m)\u001b[0m\u001b[0;34m)\u001b[0m\u001b[0;34m\u001b[0m\u001b[0;34m\u001b[0m\u001b[0m\n\u001b[0m\u001b[1;32m     11\u001b[0m \u001b[0mprint\u001b[0m\u001b[0;34m(\u001b[0m\u001b[0mroc_auc_score\u001b[0m\u001b[0;34m(\u001b[0m\u001b[0my_test\u001b[0m\u001b[0;34m,\u001b[0m \u001b[0mknn_best\u001b[0m\u001b[0;34m.\u001b[0m\u001b[0mpredict_proba\u001b[0m\u001b[0;34m(\u001b[0m\u001b[0mX_test\u001b[0m\u001b[0;34m)\u001b[0m\u001b[0;34m[\u001b[0m\u001b[0;34m:\u001b[0m\u001b[0;34m,\u001b[0m \u001b[0;36m1\u001b[0m\u001b[0;34m]\u001b[0m\u001b[0;34m)\u001b[0m\u001b[0;34m)\u001b[0m\u001b[0;34m\u001b[0m\u001b[0;34m\u001b[0m\u001b[0m\n",
            "\u001b[0;31mNameError\u001b[0m: name 'roc_auc_score' is not defined"
          ]
        }
      ]
    },
    {
      "cell_type": "code",
      "source": [
        "# a = [0, 1, 2, 3, 4]\n",
        "# b = [1, 2, 3]\n",
        "\n",
        "# (a=0, b=1), (a=0, b=2), (a=0, b=3), (a=1, b=1), (a=1, b=2)"
      ],
      "metadata": {
        "id": "rl5VpciTWiqZ"
      },
      "execution_count": null,
      "outputs": []
    },
    {
      "cell_type": "code",
      "source": [
        "from sklearn.model_selection import GridSearchCV\n",
        "#create new a knn model\n",
        "knn2 = KNeighborsClassifier()\n",
        "#create a dictionary of all values we want to test for n_neighbors\n",
        "param_grid = {'n_neighbors': np.arange(1, 25)}\n",
        "#use gridsearch to test all values for n_neighbors\n",
        "knn_gscv = GridSearchCV(knn2, param_grid, cv=5, n_jobs=-1)\n",
        "#fit model to data\n",
        "knn_gscv.fit(X_train, y_train)"
      ],
      "metadata": {
        "colab": {
          "base_uri": "https://localhost:8080/"
        },
        "id": "J3Q3XFwXydNL",
        "outputId": "f9575265-bd5c-40c1-fc06-7a593d0cfd61"
      },
      "execution_count": null,
      "outputs": [
        {
          "output_type": "execute_result",
          "data": {
            "text/plain": [
              "GridSearchCV(cv=5, estimator=KNeighborsClassifier(), n_jobs=-1,\n",
              "             param_grid={'n_neighbors': array([ 1,  2,  3,  4,  5,  6,  7,  8,  9, 10, 11, 12, 13, 14, 15, 16, 17,\n",
              "       18, 19, 20, 21, 22, 23, 24])})"
            ]
          },
          "metadata": {},
          "execution_count": 48
        }
      ]
    },
    {
      "cell_type": "code",
      "source": [
        "#check top performing n_neighbors value\n",
        "knn_gscv.best_params_"
      ],
      "metadata": {
        "colab": {
          "base_uri": "https://localhost:8080/"
        },
        "id": "NuYC26qYynLj",
        "outputId": "b86bcf7c-3124-4a90-8d72-17c20fdf91da"
      },
      "execution_count": null,
      "outputs": [
        {
          "output_type": "execute_result",
          "data": {
            "text/plain": [
              "{'n_neighbors': 24}"
            ]
          },
          "metadata": {},
          "execution_count": 49
        }
      ]
    },
    {
      "cell_type": "code",
      "source": [
        "#check mean score for the top performing value of n_neighbors\n",
        "knn_gscv.best_score_"
      ],
      "metadata": {
        "colab": {
          "base_uri": "https://localhost:8080/"
        },
        "id": "yinRYtoPysrb",
        "outputId": "10a0cf10-803d-4a06-846e-bc4121e4cafc"
      },
      "execution_count": null,
      "outputs": [
        {
          "output_type": "execute_result",
          "data": {
            "text/plain": [
              "0.7605757696921231"
            ]
          },
          "metadata": {},
          "execution_count": 50
        }
      ]
    },
    {
      "cell_type": "code",
      "source": [
        "# Create KNN classifier\n",
        "knn_best = KNeighborsClassifier(n_neighbors = 24)\n",
        "# Fit the classifier to the data\n",
        "knn_best.fit(X_train,y_train)\n",
        "\n",
        "#check accuracy of our model on the test data\n",
        "print(knn_best.score(X_train, y_train))\n",
        "print(knn_best.score(X_test, y_test))"
      ],
      "metadata": {
        "colab": {
          "base_uri": "https://localhost:8080/"
        },
        "id": "RjZ7jhkpyzTU",
        "outputId": "66bbe725-3879-4772-9290-3a04b71b4c20"
      },
      "execution_count": null,
      "outputs": [
        {
          "output_type": "stream",
          "name": "stdout",
          "text": [
            "0.7638436482084691\n",
            "0.7337662337662337\n"
          ]
        }
      ]
    },
    {
      "cell_type": "code",
      "source": [
        "print(roc_auc_score(y_train, knn_best.predict_proba(X_train)[:, 1]))\n",
        "print(roc_auc_score(y_test, knn_best.predict_proba(X_test)[:, 1]))"
      ],
      "metadata": {
        "colab": {
          "base_uri": "https://localhost:8080/"
        },
        "id": "IEJT7cJRzKQ8",
        "outputId": "ea926144-cd30-44f4-f68a-2e911ac8b76b"
      },
      "execution_count": null,
      "outputs": [
        {
          "output_type": "stream",
          "name": "stdout",
          "text": [
            "0.8270677570093459\n",
            "0.7772222222222223\n"
          ]
        }
      ]
    },
    {
      "cell_type": "code",
      "source": [
        "import sklearn.metrics as metrics\n",
        "# calculate the fpr and tpr for all thresholds of the classification\n",
        "probs = knn_best.predict_proba(X_test)\n",
        "preds = probs[:,1]\n",
        "fpr, tpr, threshold = metrics.roc_curve(y_test, preds)\n",
        "roc_auc = metrics.auc(fpr, tpr)\n",
        "\n",
        "import matplotlib.pyplot as plt\n",
        "plt.title('Receiver Operating Characteristic')\n",
        "plt.plot(fpr, tpr, 'b', label = 'AUC = %0.2f' % roc_auc)\n",
        "plt.legend(loc = 'lower right')\n",
        "plt.plot([0, 1], [0, 1],'r--')\n",
        "plt.xlim([0, 1])\n",
        "plt.ylim([0, 1])\n",
        "plt.ylabel('True Positive Rate')\n",
        "plt.xlabel('False Positive Rate')\n",
        "plt.show()"
      ],
      "metadata": {
        "colab": {
          "base_uri": "https://localhost:8080/",
          "height": 294
        },
        "id": "VITcxec20mC9",
        "outputId": "15e1de8f-e799-485b-83bf-c7e02e0ae7d1"
      },
      "execution_count": null,
      "outputs": [
        {
          "output_type": "display_data",
          "data": {
            "image/png": "[encoded data removed]",
            "text/plain": [
              "<Figure size 432x288 with 1 Axes>"
            ]
          },
          "metadata": {
            "needs_background": "light"
          }
        }
      ]
    }
  ]
}