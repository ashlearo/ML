{
  "nbformat": 4,
  "nbformat_minor": 0,
  "metadata": {
    "colab": {
      "provenance": [],
      "include_colab_link": true
    },
    "kernelspec": {
      "name": "python3",
      "display_name": "Python 3"
    },
    "language_info": {
      "name": "python"
    }
  },
  "cells": [
    {
      "cell_type": "markdown",
      "metadata": {
        "id": "view-in-github",
        "colab_type": "text"
      },
      "source": [
        "<a href=\"https://colab.research.google.com/github/ashlearo/ML/blob/main/%D0%94%D0%97_3_%D0%95%D1%80%D0%BC%D0%B0%D0%BA%D0%BE%D0%B2_%D0%90%D0%BB%D0%B5%D0%BA%D1%81%D0%B0%D0%BD%D0%B4%D1%80_ipynb%22.ipynb\" target=\"_parent\"><img src=\"https://colab.research.google.com/assets/colab-badge.svg\" alt=\"Open In Colab\"/></a>"
      ]
    },
    {
      "cell_type": "markdown",
      "metadata": {
        "id": "z2g7XUlICDdI"
      },
      "source": [
        "### Загружаем данные с каггла"
      ]
    },
    {
      "cell_type": "code",
      "source": [
        "import pandas as pd\n",
        "import numpy as np"
      ],
      "metadata": {
        "id": "fHqz24NZmUKx"
      },
      "execution_count": null,
      "outputs": []
    },
    {
      "cell_type": "code",
      "source": [
        "!pip install kaggle"
      ],
      "metadata": {
        "id": "jn-rD02Bn8MV"
      },
      "execution_count": null,
      "outputs": []
    },
    {
      "cell_type": "code",
      "metadata": {
        "id": "McDj-7fGkOYB"
      },
      "source": [
        "! mkdir ~/.kaggle\n",
        "! cp kaggle.json ~/.kaggle/\n",
        "! chmod 600 ~/.kaggle/kaggle.json"
      ],
      "execution_count": null,
      "outputs": []
    },
    {
      "cell_type": "code",
      "metadata": {
        "id": "W8FsqpwckYRQ"
      },
      "source": [
        "!kaggle competitions download -c sberbank-russian-housing-market #-p /content/gdrive/My\\ Drive/kaggle/cancer"
      ],
      "execution_count": null,
      "outputs": []
    },
    {
      "cell_type": "code",
      "metadata": {
        "id": "oXEAstuJGOrg"
      },
      "source": [
        "!ls"
      ],
      "execution_count": null,
      "outputs": []
    },
    {
      "cell_type": "code",
      "source": [
        "from google.colab import files\n",
        "uploaded = files.upload()"
      ],
      "metadata": {
        "id": "4feOc9WZmkOK"
      },
      "execution_count": null,
      "outputs": []
    },
    {
      "cell_type": "code",
      "metadata": {
        "id": "xndp6QJgoa6D"
      },
      "source": [
        "import pandas as pd\n",
        "import numpy as np\n",
        "import matplotlib.pyplot as plt\n",
        "import seaborn as sns\n",
        "from scipy import stats\n",
        "import warnings\n",
        "from sklearn.impute import SimpleImputer\n",
        "from sklearn import preprocessing\n",
        "warnings.filterwarnings(action='ignore')\n",
        "\n",
        "from sklearn.linear_model import ElasticNet, Lasso,  BayesianRidge, LassoLarsIC\n",
        "from sklearn.ensemble import RandomForestRegressor,  GradientBoostingRegressor\n",
        "#import catboost as cb\n",
        "from sklearn.model_selection import KFold, cross_val_score, train_test_split\n",
        "from sklearn.metrics import mean_squared_error\n",
        "import xgboost as xgb\n",
        "import lightgbm as lgb"
      ],
      "execution_count": null,
      "outputs": []
    },
    {
      "cell_type": "markdown",
      "metadata": {
        "id": "Nt2NeDk6-iDd"
      },
      "source": [
        "##Разбиение данных на training sample и validation sample"
      ]
    },
    {
      "cell_type": "code",
      "metadata": {
        "id": "-DBnNaycGY-n"
      },
      "source": [
        "train_df = pd.read_csv(\"train.csv\")\n",
        "test_df = pd.read_csv(\"test.csv\")"
      ],
      "execution_count": null,
      "outputs": []
    },
    {
      "cell_type": "code",
      "metadata": {
        "id": "Q7vOtyl4VcNv"
      },
      "source": [
        "print(\"train shape: \", train_df.shape)\n",
        "print(\"test shape: \",test_df.shape)"
      ],
      "execution_count": null,
      "outputs": []
    },
    {
      "cell_type": "code",
      "metadata": {
        "id": "Ys6DslBoGno8"
      },
      "source": [
        "train_df.head()"
      ],
      "execution_count": null,
      "outputs": []
    },
    {
      "cell_type": "markdown",
      "metadata": {
        "id": "B8oCA6cA-ZkK"
      },
      "source": [
        "##Анализ признаков и подготовка данных"
      ]
    },
    {
      "cell_type": "code",
      "source": [
        "y = train_df['price_doc']"
      ],
      "metadata": {
        "id": "t2kx98wVuifj"
      },
      "execution_count": null,
      "outputs": []
    },
    {
      "cell_type": "code",
      "metadata": {
        "id": "esegkv63XrNV"
      },
      "source": [
        "\n",
        "f, ax = plt.subplots(figsize=(18, 12))\n",
        "sns.distplot(y);"
      ],
      "execution_count": null,
      "outputs": []
    },
    {
      "cell_type": "code",
      "metadata": {
        "id": "W013Sy-Padkc"
      },
      "source": [
        "fig = plt.figure(figsize = (10,6))\n",
        "res = stats.probplot(y, plot=plt)"
      ],
      "execution_count": null,
      "outputs": []
    },
    {
      "cell_type": "markdown",
      "source": [
        "Линейный график не соответсвует графику стоимости, попробуем логарифм"
      ],
      "metadata": {
        "id": "ltFqjeaSsn4B"
      }
    },
    {
      "cell_type": "code",
      "metadata": {
        "id": "QwsnCKTca6-1"
      },
      "source": [
        "fig = plt.figure(figsize = (10,6))\n",
        "res = stats.probplot(np.log1p(y), plot=plt)"
      ],
      "execution_count": null,
      "outputs": []
    },
    {
      "cell_type": "code",
      "metadata": {
        "id": "LbNNw96veUt5"
      },
      "source": [
        "f, ax = plt.subplots(figsize=(18,12))\n",
        "highcorr_vars = (train_df.corr().price_doc.sort_values(ascending=False)).index  #[:10]\n",
        "sns.heatmap(train_df[highcorr_vars].corr(), annot=True)\n",
        "plt.show()"
      ],
      "execution_count": null,
      "outputs": []
    },
    {
      "cell_type": "code",
      "metadata": {
        "id": "wm4cUoTHg3oO"
      },
      "source": [
        "plt.subplots(figsize=(10, 8))\n",
        "outlier = train_df['full_sq'].sort_values(ascending=False)[:2].index\n",
        "sns.scatterplot(x=train_df['full_sq'], y=y)\n",
        "sns.scatterplot(x=train_df.iloc[outlier]['full_sq'], y=train_df.iloc[outlier]['price_doc'], color='r', s=100, alpha=.6)\n",
        "plt.show()"
      ],
      "execution_count": null,
      "outputs": []
    },
    {
      "cell_type": "code",
      "source": [
        "fig, ax = plt.subplots(figsize=(10, 8))\n",
        "outlier = train_df['life_sq'].sort_values(ascending=False)[:1].index\n",
        "sns.scatterplot(x = train_df['life_sq'], y = y)\n",
        "sns.scatterplot(x=train_df.iloc[outlier]['life_sq'], y=train_df.iloc[outlier]['price_doc'], color='r', s=100, alpha=.6)\n",
        "plt.ylabel('price_doc', fontsize=13)\n",
        "plt.xlabel('life_sq', fontsize=13)\n",
        "plt.show()"
      ],
      "metadata": {
        "id": "4opEXBcOuQd0"
      },
      "execution_count": null,
      "outputs": []
    },
    {
      "cell_type": "markdown",
      "source": [
        "Нанесем на одном графике распределение стоимости от жилой и общей площади.\n",
        "результат - оба этих параметра сильно коррелиют между собой"
      ],
      "metadata": {
        "id": "ps9Fg_wduqu6"
      }
    },
    {
      "cell_type": "code",
      "source": [
        "plt.subplots(figsize=(10, 8))\n",
        "outlier = train_df['full_sq'].sort_values(ascending=False)[:2].index\n",
        "sns.scatterplot(x=train_df['full_sq'], y = y, color='c')\n",
        "sns.scatterplot(x = train_df['life_sq'], y = y, color='g')\n",
        "# sns.scatterplot(x=train_df.iloc[outlier]['full_sq'], y=train_df.iloc[outlier]['price_doc'], color='r', s=100, alpha=.6)\n",
        "plt.show()"
      ],
      "metadata": {
        "id": "le-mNZMat3vZ"
      },
      "execution_count": null,
      "outputs": []
    },
    {
      "cell_type": "code",
      "metadata": {
        "id": "w8yy0b5JM-OW"
      },
      "source": [
        "fig, ax = plt.subplots(figsize=(10, 8))\n",
        "outlier = train_df['sub_area'].sort_values(ascending=False)[:1].index\n",
        "sns.scatterplot(x = train_df['sub_area'], y = y)\n",
        "sns.scatterplot(x=train_df.iloc[outlier]['sub_area'], y=train_df.iloc[outlier]['price_doc'], color='r', s=100, alpha=.6)\n",
        "plt.ylabel('price_doc', fontsize=13)\n",
        "plt.xlabel('sub_area', fontsize=13)\n",
        "plt.show()"
      ],
      "execution_count": null,
      "outputs": []
    },
    {
      "cell_type": "code",
      "metadata": {
        "id": "m4SV4JMwhhlX"
      },
      "source": [
        "fig, ax = plt.subplots(figsize=(10, 8))\n",
        "outlier = train_df['green_zone_part'].sort_values(ascending=False)[:1].index\n",
        "sns.scatterplot(x = train_df['green_zone_part'], y = y)\n",
        "sns.scatterplot(x=train_df.iloc[outlier]['green_zone_part'], y=train_df.iloc[outlier]['price_doc'], color='r', s=100, alpha=.6)\n",
        "plt.ylabel('price_doc', fontsize=13)\n",
        "plt.xlabel('green_zone_part', fontsize=13)\n",
        "plt.show()"
      ],
      "execution_count": null,
      "outputs": []
    },
    {
      "cell_type": "markdown",
      "source": [
        "Гистограмма плотности распределения цены объекта"
      ],
      "metadata": {
        "id": "wguU53Oos8VI"
      }
    },
    {
      "cell_type": "code",
      "source": [
        "\n",
        "plt.rcParams['text.color'] = 'black'\n",
        "f, ax = plt.subplots(figsize=(4, 4))\n",
        "sns.distplot(y)\n",
        "# sns.distplot(train_df.price_doc, fit=norm, color='r')\n",
        "plt.title('Распределение цены объекта', size=15)\n",
        "plt.xlabel('Цена', size=10)\n",
        "plt.ylabel('Плотность', size=10)\n",
        "plt.show()"
      ],
      "metadata": {
        "id": "v1fgvFyZsrqV"
      },
      "execution_count": null,
      "outputs": []
    },
    {
      "cell_type": "markdown",
      "source": [
        "Гистограмма плотности распределения логарифма цены объекта, ближе к плотности нормального распределения, только имеются пара выбросов при низкой стоимости объектов, их бы надо найти и удалить из дата сета(либо заменить на средние значения)"
      ],
      "metadata": {
        "id": "SQw0-PfStGTN"
      }
    },
    {
      "cell_type": "code",
      "source": [
        "f, ax = plt.subplots(figsize=(4, 4))\n",
        "sns.distplot(np.log1p(y))\n",
        "plt.title('Логарифм распределения', size=15)\n",
        "plt.xlabel('Цена', size=10)\n",
        "plt.ylabel('Плотность', size=10)\n",
        "plt.show()"
      ],
      "metadata": {
        "id": "EchSaQS0sr6D"
      },
      "execution_count": null,
      "outputs": []
    },
    {
      "cell_type": "markdown",
      "source": [
        "код ниже 3 ячейки не исользую"
      ],
      "metadata": {
        "id": "UDcnmF7z0yge"
      }
    },
    {
      "cell_type": "code",
      "metadata": {
        "id": "KGr0lkSeRpsH"
      },
      "source": [
        "train_df.drop(train_df['GrLivArea'].sort_values(ascending=False)[:2].index, axis=0, inplace=True)\n",
        "train_df.drop(train_df['1stFlrSF'].sort_values(ascending=False)[:1].index, axis=0, inplace=True)\n",
        "train_df.drop(train_df['TotalBsmtSF'].sort_values(ascending=False)[:1].index, axis=0, inplace=True)"
      ],
      "execution_count": null,
      "outputs": []
    },
    {
      "cell_type": "code",
      "metadata": {
        "id": "hFB4V73kSL7n"
      },
      "source": [
        "train_id = train_df.Id\n",
        "test_id = test_df.Id\n",
        "train_df.drop(['Id'], axis=1, inplace=True)\n",
        "test_df.drop(['Id'], axis=1, inplace=True)"
      ],
      "execution_count": null,
      "outputs": []
    },
    {
      "cell_type": "code",
      "metadata": {
        "id": "ybw88LyG3O-u"
      },
      "source": [
        "train_df = train_df.drop(['Alley','PoolQC','MiscFeature'],axis=1)\n",
        "test_df = test_df.drop(['Alley','PoolQC','MiscFeature'],axis=1)"
      ],
      "execution_count": null,
      "outputs": []
    },
    {
      "cell_type": "markdown",
      "source": [],
      "metadata": {
        "id": "M_TscyiW1Nvl"
      }
    },
    {
      "cell_type": "code",
      "metadata": {
        "id": "iPvGxoJhSS9H"
      },
      "source": [
        "train_size = train_df.shape[0]\n",
        "y_train = train_df['price_doc'].values\n",
        "all_data = pd.concat((train_df, test_df), axis=0).reset_index(drop=True)\n",
        "all_data.drop(['price_doc'], axis=1, inplace=True)"
      ],
      "execution_count": null,
      "outputs": []
    },
    {
      "cell_type": "code",
      "metadata": {
        "colab": {
          "base_uri": "https://localhost:8080/"
        },
        "id": "BnOznGYfSoHN",
        "outputId": "3ef89c08-04a7-4689-94b4-8d091a29890c"
      },
      "source": [
        "train_df.shape, test_df.shape, all_data.shape, y_train.shape"
      ],
      "execution_count": null,
      "outputs": [
        {
          "output_type": "execute_result",
          "data": {
            "text/plain": [
              "((30471, 292), (7662, 291), (38133, 291), (30471,))"
            ]
          },
          "metadata": {},
          "execution_count": 39
        }
      ]
    },
    {
      "cell_type": "code",
      "metadata": {
        "id": "4M3uf4cuS8nJ"
      },
      "source": [
        "all_data.isnull().sum().sort_values(ascending=False).head(20)"
      ],
      "execution_count": null,
      "outputs": []
    },
    {
      "cell_type": "code",
      "source": [
        "f, ax = plt.subplots(6, 6, figsize=(25, 20))\n",
        "for i, c in enumerate(continuous_vars):\n",
        "    sns.distplot(all_data[c], fit=norm, ax=ax[i//6, i%6])"
      ],
      "metadata": {
        "id": "3x8AE3Tj1OtA"
      },
      "execution_count": null,
      "outputs": []
    },
    {
      "cell_type": "markdown",
      "metadata": {
        "id": "dDNP6Plh-scs"
      },
      "source": [
        "*Заполним пропуски и применим OneHotEncoding*\n",
        "\n",
        "\n",
        "---"
      ]
    },
    {
      "cell_type": "code",
      "metadata": {
        "id": "Yv7_IoBgTngs"
      },
      "source": [
        "cat_features_mask = (all_data.dtypes == \"object\").values"
      ],
      "execution_count": null,
      "outputs": []
    },
    {
      "cell_type": "code",
      "metadata": {
        "id": "2RwUwR2hTsRq"
      },
      "source": [
        "# для вещественнозначных признаков заполним пропуски медианой\n",
        "X_real = all_data[all_data.columns[~cat_features_mask]]\n",
        "mis_replacer = SimpleImputer(strategy=\"median\")\n",
        "X_no_mis_real = pd.DataFrame(data=mis_replacer.fit_transform(X_real), columns=X_real.columns)\n",
        "# для категориальных - \"None\"\n",
        "X_cat = all_data[all_data.columns[cat_features_mask]].fillna(\"None\")\n",
        "all_data = pd.concat([X_no_mis_real, X_cat], axis=1)"
      ],
      "execution_count": null,
      "outputs": []
    },
    {
      "cell_type": "code",
      "metadata": {
        "id": "3nUlgAhaVEMK"
      },
      "source": [
        "all_data = pd.get_dummies(all_data)"
      ],
      "execution_count": null,
      "outputs": []
    },
    {
      "cell_type": "markdown",
      "metadata": {
        "id": "WU9uKQ-s_F1e"
      },
      "source": [
        "*Разделим на train и test*\n",
        "\n",
        "\n",
        "---"
      ]
    },
    {
      "cell_type": "code",
      "metadata": {
        "id": "OY3_21OUV825"
      },
      "source": [
        "y_train = np.log1p(y_train)"
      ],
      "execution_count": null,
      "outputs": []
    },
    {
      "cell_type": "code",
      "metadata": {
        "id": "kCCabYlmWAFS"
      },
      "source": [
        "X_train, X_test = all_data.iloc[:train_size, :], all_data.iloc[train_size:, :]"
      ],
      "execution_count": null,
      "outputs": []
    },
    {
      "cell_type": "code",
      "metadata": {
        "id": "aEgnzbgYWa7r"
      },
      "source": [
        "X_train.shape, X_test.shape, y_train.shape"
      ],
      "execution_count": null,
      "outputs": []
    },
    {
      "cell_type": "markdown",
      "metadata": {
        "id": "TsQbnrfF8bU4"
      },
      "source": [
        "##Обучение модели"
      ]
    },
    {
      "cell_type": "code",
      "metadata": {
        "id": "tOHHRXKegUC1"
      },
      "source": [
        "cb_model = cb.CatBoostRegressor(\n",
        "    depth = 4,\n",
        "    l2_leaf_reg = 1,\n",
        "    learning_rate = 0.03)"
      ],
      "execution_count": null,
      "outputs": []
    },
    {
      "cell_type": "code",
      "metadata": {
        "id": "rLH136Fcgs_P"
      },
      "source": [
        "model_xgb = xgb.XGBRegressor(\n",
        "         objective = 'reg:squarederror',\n",
        "         colsample_bytree = 0.5,\n",
        "         learning_rate = 0.1,\n",
        "         max_depth = 3,\n",
        "         min_child_weight = 1,\n",
        "         n_estimators = 500,\n",
        "         subsample = 0.7)"
      ],
      "execution_count": null,
      "outputs": []
    },
    {
      "cell_type": "code",
      "metadata": {
        "id": "c3irTFnQguUy"
      },
      "source": [
        "model_lgb = lgb.LGBMRegressor(objective='regression',num_leaves=5,\n",
        "                              learning_rate=0.05,\n",
        "                              n_estimators=720,\n",
        "                              max_bin = 55,\n",
        "                              bagging_fraction = 0.8,\n",
        "                              bagging_freq = 5,\n",
        "                              feature_fraction = 0.25,\n",
        "                              feature_fraction_seed=9,\n",
        "                              bagging_seed=9,\n",
        "                              min_data_in_leaf =6,\n",
        "                              min_sum_hessian_in_leaf = 11)"
      ],
      "execution_count": null,
      "outputs": []
    },
    {
      "cell_type": "code",
      "metadata": {
        "id": "UEB2xwu72rXh"
      },
      "source": [
        "from sklearn.model_selection import GridSearchCV"
      ],
      "execution_count": null,
      "outputs": []
    },
    {
      "cell_type": "code",
      "metadata": {
        "id": "BvCOAO-Y3GJH"
      },
      "source": [
        "#XGBoost hyper-parameter tuning\n",
        "def hyperParameterTuning(X_train, y_train):\n",
        "    param_tuning = {\n",
        "        'learning_rate': [0.01, 0.05, 0.1],\n",
        "        'max_depth': [3, 5, 7, 10],\n",
        "        'min_child_weight': [1, 3, 5],\n",
        "        'subsample': [0.5, 0.7],\n",
        "        'colsample_bytree': [0.5, 0.7],\n",
        "        'n_estimators' : [100, 200, 500],\n",
        "        'objective': ['reg:squarederror']\n",
        "    }\n",
        "\n",
        "    model_xgb = xgb.XGBRegressor()\n",
        "\n",
        "    gsearch2 = GridSearchCV(estimator = model_xgb,\n",
        "                           param_grid = param_tuning,\n",
        "                           scoring = 'neg_root_mean_squared_error',\n",
        "                           cv = 5,\n",
        "                           n_jobs = -1,\n",
        "                           verbose = 1)\n",
        "\n",
        "    gsearch2.fit(X_train,y_train)\n",
        "\n",
        "    return gsearch2.best_params_"
      ],
      "execution_count": null,
      "outputs": []
    },
    {
      "cell_type": "code",
      "metadata": {
        "id": "YVeVhnOa3PuT"
      },
      "source": [
        "hyperParameterTuning(X_train, y_train)"
      ],
      "execution_count": null,
      "outputs": []
    },
    {
      "cell_type": "code",
      "metadata": {
        "id": "2glYJbK79OWP"
      },
      "source": [
        "def rmsle(y, y_pred):\n",
        "    return np.sqrt(mean_squared_error(y, y_pred))"
      ],
      "execution_count": null,
      "outputs": []
    },
    {
      "cell_type": "markdown",
      "metadata": {
        "id": "zGFHlkqZ8rdV"
      },
      "source": [
        "##install catboost"
      ]
    },
    {
      "cell_type": "code",
      "metadata": {
        "id": "ajDf3M-_lLhS"
      },
      "source": [
        "!pip install catboost"
      ],
      "execution_count": null,
      "outputs": []
    },
    {
      "cell_type": "markdown",
      "metadata": {
        "id": "m1ztW6rq9Aj-"
      },
      "source": [
        "##Обучение CatBoost"
      ]
    },
    {
      "cell_type": "code",
      "metadata": {
        "id": "mFcTAofvlTQi"
      },
      "source": [
        "cb_model.fit(X_train, y_train)"
      ],
      "execution_count": null,
      "outputs": []
    },
    {
      "cell_type": "code",
      "metadata": {
        "id": "Dmlrteu7lmTC"
      },
      "source": [
        "cb_train_pred = cb_model.predict(X_train)\n",
        "cb_pred = np.expm1(cb_model.predict(X_test))\n",
        "print(rmse(y_train, cb_train_pred))\n",
        "print(r2_score(y_train, cb_train_pred))"
      ],
      "execution_count": null,
      "outputs": []
    },
    {
      "cell_type": "markdown",
      "metadata": {
        "id": "XCiSiCtI9U0D"
      },
      "source": [
        "##Обучение XGBRegressor"
      ]
    },
    {
      "cell_type": "code",
      "metadata": {
        "id": "j7ftWbPji7SQ"
      },
      "source": [
        "model_xgb.fit(X_train, y_train)\n",
        "xgb_train_pred = model_xgb.predict(X_train)\n",
        "xgb_pred = np.expm1(model_xgb.predict(X_test))\n",
        "print(rmsle(y_train, xgb_train_pred))\n",
        "print(r2_score(y_train, xgb_train_pred))"
      ],
      "execution_count": null,
      "outputs": []
    },
    {
      "cell_type": "markdown",
      "metadata": {
        "id": "cAICOggc9fZQ"
      },
      "source": [
        "##Обучение LGBMRegressor"
      ]
    },
    {
      "cell_type": "code",
      "metadata": {
        "id": "GKQt21sHjpn9"
      },
      "source": [
        "model_lgb.fit(X_train, y_train)\n",
        "lgb_train_pred = model_lgb.predict(X_train)\n",
        "lgb_pred = np.expm1(model_lgb.predict(X_test.values))\n",
        "print(rmsle(y_train, lgb_train_pred))\n",
        "print(r2_score(y_train, lgb_train_pred))"
      ],
      "execution_count": null,
      "outputs": []
    },
    {
      "cell_type": "markdown",
      "metadata": {
        "id": "2mg3Mx5Q720y"
      },
      "source": [
        "##Подготовка результатов на Kaggle\n"
      ]
    },
    {
      "cell_type": "code",
      "metadata": {
        "id": "2K7437_bj6MH"
      },
      "source": [
        "predictions = (cb_pred + xgb_pred + lgb_pred) / 3"
      ],
      "execution_count": null,
      "outputs": []
    },
    {
      "cell_type": "code",
      "metadata": {
        "id": "yA2owZurmLv9"
      },
      "source": [
        "sub = pd.DataFrame()\n",
        "sub['Id'] = test_id\n",
        "sub['SalePrice'] = predictions\n",
        "sub.to_csv('submission_0311_8.csv',index=False)"
      ],
      "execution_count": null,
      "outputs": []
    },
    {
      "cell_type": "code",
      "metadata": {
        "id": "qj-0-AkloFRu"
      },
      "source": [
        "sub"
      ],
      "execution_count": null,
      "outputs": []
    }
  ]
}
